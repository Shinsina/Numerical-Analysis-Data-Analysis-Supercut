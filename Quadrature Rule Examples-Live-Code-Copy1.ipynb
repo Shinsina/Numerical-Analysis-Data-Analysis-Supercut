{
 "cells": [
  {
   "cell_type": "markdown",
   "metadata": {},
   "source": [
    "# Comparing Quadrature Rules with Semilogy Plots"
   ]
  },
  {
   "cell_type": "code",
   "execution_count": 1,
   "metadata": {},
   "outputs": [],
   "source": [
    "import numpy as np\n",
    "from numpy.polynomial.legendre import leggauss\n",
    "import matplotlib.pyplot as plt\n",
    "eps = np.finfo(float).eps"
   ]
  },
  {
   "cell_type": "code",
   "execution_count": 2,
   "metadata": {},
   "outputs": [],
   "source": [
    "def mysimp(func,N,a,b):\n",
    "    x = np.linspace(a,b,N)\n",
    "    # Insert Code here with new argument list\n",
    "    h=(x[-1] - x[0])/(len(x)-1)\n",
    "    w = np.ones(len(x))\n",
    "    w[1::2] = 4\n",
    "    w[2:-1:2] = 2\n",
    "    w = w*h/3\n",
    "    return w.dot(func(x)) # How would you implement the quadrature rule?"
   ]
  },
  {
   "cell_type": "code",
   "execution_count": 3,
   "metadata": {},
   "outputs": [],
   "source": [
    "def mytrap(func,N,a,b):\n",
    "    x = np.linspace(a,b,N)\n",
    "    # Insert Code here with new argument list\n",
    "    h=(x[-1] - x[0])/(len(x)-1)\n",
    "    w = np.ones(len(x))\n",
    "    w[0], w[-1] = w[0]/2, w[-1]/2\n",
    "    w = w*h\n",
    "    return w.dot(func(x))# How would you implement the quadrature rule?"
   ]
  },
  {
   "cell_type": "code",
   "execution_count": 4,
   "metadata": {},
   "outputs": [],
   "source": [
    "def mymid(func,N,a,b):\n",
    "    x = np.linspace(a,b,N)\n",
    "    # Insert Code here with new argument list\n",
    "    # Be careful, we need to define midpoints!\n",
    "    h=(x[-1] - x[0])/(len(x)-1)\n",
    "    c = (x[:-1] + x[1:])/2\n",
    "    w = np.ones(len(c))\n",
    "    w = w*h\n",
    "    return w.dot(func(c))# How would you implement the quadrature rule (with midpoints)?"
   ]
  },
  {
   "cell_type": "code",
   "execution_count": 5,
   "metadata": {},
   "outputs": [],
   "source": [
    "def f(x):\n",
    "    return x**22"
   ]
  },
  {
   "cell_type": "markdown",
   "metadata": {},
   "source": [
    "### Semilogy Error Plot Comparing Quadrature Rules"
   ]
  },
  {
   "cell_type": "code",
   "execution_count": 6,
   "metadata": {},
   "outputs": [
    {
     "data": {
      "image/png": "[encoded data removed]",
      "text/plain": [
       "<Figure size 432x288 with 1 Axes>"
      ]
     },
     "metadata": {
      "needs_background": "light"
     },
     "output_type": "display_data"
    }
   ],
   "source": [
    "# ******************************************************************************\n",
    "test = 2/23 #<-- Change the test solution each time you change the exponent above\n",
    "# ******************************************************************************\n",
    "errt = [] # Trapezoidal rule error array\n",
    "errs = [] # Simpson's rule error array\n",
    "errm = [] # Midpoint rule error array\n",
    "a,b = -1, 1;\n",
    "Nvec = np.arange(3,30,2) # Requires odd number of nodes (even number of subintervals)\n",
    "# Construct a vector of errors and display them for the increasing grid-sizes\n",
    "for N in Nvec:\n",
    "    x = np.linspace(a,b,N)\n",
    "    Itrap = mytrap(f,N,a,b)\n",
    "    Isimp = mysimp(f,N,a,b)\n",
    "    Imid = mymid(f,N,a,b)\n",
    "    errt.append(np.fabs(Itrap-test))\n",
    "    errs.append(np.fabs(Isimp-test))\n",
    "    errm.append(np.fabs(Imid-test))\n",
    "plt.semilogy(Nvec,errt,'ro-',Nvec,errs,'bo-',Nvec,errm,'go-')\n",
    "plt.legend(['Trapezoidal','Simpsons','Midpoint'],loc='center left',bbox_to_anchor=(0.9,0.7))\n",
    "plt.xlabel('nodes')\n",
    "plt.ylabel('log(err)');\n",
    "# \"Something wrong with Simpson's rule? You may need to adjust Nvec so the number of nodes is odd.\""
   ]
  },
  {
   "cell_type": "markdown",
   "metadata": {},
   "source": [
    "### Gaussian Quadrature Nodes and Weights"
   ]
  },
  {
   "cell_type": "markdown",
   "metadata": {},
   "source": [
    "###### There is a NumPy function that produces the nodes and weights for Gaussian quadrature -- the nodes are the zeros of Legendre polynomials. Examples are provided for you to peruse."
   ]
  },
  {
   "cell_type": "code",
   "execution_count": 7,
   "metadata": {},
   "outputs": [
    {
     "name": "stdout",
     "output_type": "stream",
     "text": [
      "nodes = [-0.57735027  0.57735027]\n",
      "weights = [1. 1.]\n"
     ]
    }
   ],
   "source": [
    "x = np.array([-np.sqrt(3)/3,np.sqrt(3)/3])\n",
    "w = np.ones(2)\n",
    "print('nodes = {}'.format(x))\n",
    "print('weights = {}'.format(w))"
   ]
  },
  {
   "cell_type": "code",
   "execution_count": 8,
   "metadata": {},
   "outputs": [
    {
     "name": "stdout",
     "output_type": "stream",
     "text": [
      "nodes = [-0.57735027  0.57735027]\n",
      "weights = [1. 1.]\n"
     ]
    }
   ],
   "source": [
    "N = 2\n",
    "x,w = leggauss(N) # Using the NumPy package\n",
    "print('nodes = {}'.format(x))\n",
    "print('weights = {}'.format(w))"
   ]
  },
  {
   "cell_type": "code",
   "execution_count": 9,
   "metadata": {},
   "outputs": [
    {
     "name": "stdout",
     "output_type": "stream",
     "text": [
      "nodes = [-0.77459667  0.          0.77459667]\n",
      "weights = [0.55555556 0.88888889 0.55555556]\n"
     ]
    }
   ],
   "source": [
    "x = np.array([-np.sqrt(3/5),0,np.sqrt(3/5)])\n",
    "w = np.array([5/9,8/9,5/9])\n",
    "print('nodes = {}'.format(x))\n",
    "print('weights = {}'.format(w))"
   ]
  },
  {
   "cell_type": "code",
   "execution_count": 10,
   "metadata": {},
   "outputs": [
    {
     "name": "stdout",
     "output_type": "stream",
     "text": [
      "nodes = [-0.77459667  0.          0.77459667]\n",
      "weights = [0.55555556 0.88888889 0.55555556]\n"
     ]
    }
   ],
   "source": [
    "N = 3\n",
    "x,w = leggauss(N) # Using the NumPy package\n",
    "print('nodes = {}'.format(x))\n",
    "print('weights = {}'.format(w))"
   ]
  },
  {
   "cell_type": "code",
   "execution_count": 11,
   "metadata": {},
   "outputs": [
    {
     "name": "stdout",
     "output_type": "stream",
     "text": [
      "nodes = [-0.90617985 -0.53846931  0.          0.53846931  0.90617985]\n",
      "weights = [0.23692689 0.47862867 0.56888889 0.47862867 0.23692689]\n"
     ]
    }
   ],
   "source": [
    "x = np.array([-np.sqrt((5+2*np.sqrt(10/7))/9),-np.sqrt((5-2*np.sqrt(10/7))/9),0,np.sqrt((5-2*np.sqrt(10/7))/9),np.sqrt((5+2*np.sqrt(10/7))/9)])\n",
    "w = np.array([0.3*((0.7+5*np.sqrt(0.7))/(2+5*np.sqrt(0.7))),0.3*((-0.7+5*np.sqrt(0.7))/(-2+5*np.sqrt(0.7))),128/225,0.3*((-0.7+5*np.sqrt(0.7))/(-2+5*np.sqrt(0.7))),0.3*((0.7+5*np.sqrt(0.7))/(2+5*np.sqrt(0.7)))])\n",
    "print('nodes = {}'.format(x))\n",
    "print('weights = {}'.format(w))"
   ]
  },
  {
   "cell_type": "code",
   "execution_count": 36,
   "metadata": {},
   "outputs": [
    {
     "name": "stdout",
     "output_type": "stream",
     "text": [
      "nodes = [-0.90617985 -0.53846931  0.          0.53846931  0.90617985]\n",
      "weights = [0.23692689 0.47862867 0.56888889 0.47862867 0.23692689]\n"
     ]
    }
   ],
   "source": [
    "N = 5\n",
    "x,w = leggauss(N) # Using the NumPy package\n",
    "print('nodes = {}'.format(x))\n",
    "print('weights = {}'.format(w))"
   ]
  },
  {
   "cell_type": "markdown",
   "metadata": {},
   "source": [
    "###### Here is a plot of the node-spacing"
   ]
  },
  {
   "cell_type": "code",
   "execution_count": 13,
   "metadata": {
    "scrolled": true
   },
   "outputs": [
    {
     "data": {
      "image/png": "[encoded data removed]",
      "text/plain": [
       "<Figure size 432x288 with 1 Axes>"
      ]
     },
     "metadata": {
      "needs_background": "light"
     },
     "output_type": "display_data"
    }
   ],
   "source": [
    "x, w = leggauss(12)\n",
    "plt.plot(x,x*0,'g.')\n",
    "plt.title('Non-uniform Node-spacing')\n",
    "plt.xticks([-1,1])\n",
    "plt.yticks([]);"
   ]
  },
  {
   "cell_type": "markdown",
   "metadata": {},
   "source": [
    "### Using the Gaussian Quadrature nodes and weights to approximate an integral"
   ]
  },
  {
   "cell_type": "markdown",
   "metadata": {},
   "source": [
    "###### Gaussian Quadrature requires only two lines (without a transformation)\n",
    "* x, w = leggauss(N)\n",
    "* Gn = w.dot(f(x))\n",
    "\n",
    "There is one caveat that the nodes are contained in $[-1,1]$ so if the integration interval is $[a,b]$, more generally, then the transformation $$t(x) = \\frac2{b-a}\\left(x - \\frac{a+b}2\\right)$$ is required.\n",
    "* Note that $t(a) = -1$ and $t(b) = 1$ so we want the transformation \"to go the other way\"\n",
    "* Note that we want $x(-1) = a$ and $x(1) = b$\n",
    "* Do not forget to re-size the weights $dx = \\frac{b-a}2 dt$\n",
    "\n",
    "$$\\int_a^bf(x)\\,dx = \\int_{-1}^1f(t(x))\\,\\frac{b-a}2dt = \\frac{b-a}2\\int_{-1}^1f(t)\\,dt$$"
   ]
  },
  {
   "cell_type": "code",
   "execution_count": 25,
   "metadata": {},
   "outputs": [
    {
     "name": "stdout",
     "output_type": "stream",
     "text": [
      "Error |I(x**m) - In(x**m)| = 3.0531e-16\n"
     ]
    }
   ],
   "source": [
    "g = lambda x: x**22 # Example of a Python lambda function definition\n",
    "N = 12\n",
    "x, w = leggauss(N)\n",
    "Igauss = w.dot(g(x))# How would you implement the Gaussian quadrature rule?\n",
    "#print(test)\n",
    "#print(Igauss)\n",
    "#print (2/23)\n",
    "print('Error |I(x**m) - In(x**m)| = {:2.4e}'.format(np.fabs(Igauss-test)))"
   ]
  },
  {
   "cell_type": "code",
   "execution_count": 15,
   "metadata": {},
   "outputs": [],
   "source": [
    "def mygauss(func,N,a=-1,b=1):\n",
    "    x, w = leggauss(N)\n",
    "    x, w = 2*(x-(a+b)/2)/(b-a), (b-a)*w/2 # Transform the nodes and weights\n",
    "    return w.dot(func(x)) # How would you implement the Gaussian quadrature rule?"
   ]
  },
  {
   "cell_type": "markdown",
   "metadata": {},
   "source": [
    "### Semilogy Error Plot Comparing Quadrature Rules"
   ]
  },
  {
   "cell_type": "code",
   "execution_count": 16,
   "metadata": {},
   "outputs": [
    {
     "data": {
      "image/png": "[encoded data removed]",
      "text/plain": [
       "<Figure size 432x288 with 1 Axes>"
      ]
     },
     "metadata": {
      "needs_background": "light"
     },
     "output_type": "display_data"
    }
   ],
   "source": [
    "# ******************************************************************************\n",
    "f = lambda x: x**22\n",
    "test = 2/23 #<-- Change the test solution each time you change the exponent above\n",
    "# ******************************************************************************\n",
    "errt = [] # Trapezoidal rule error array\n",
    "errs = [] # Simpson's rule error array\n",
    "errm = []\n",
    "errg = []\n",
    "a,b = -1, 1;\n",
    "Nvec = np.arange(3,30,2) # Requires odd number of nodes (even number of subintervals)\n",
    "# Construct a vector of errors and display them for the increasing grid-sizes\n",
    "for N in Nvec:\n",
    "    x = np.linspace(a,b,N)\n",
    "    Itrap = mytrap(f,N,a,b)\n",
    "    Isimp = mysimp(f,N,a,b)\n",
    "    Imid = mymid(f,N,a,b)\n",
    "    Igauss = mygauss(f,N,a,b)\n",
    "    errt.append(np.fabs(Itrap-test))\n",
    "    errs.append(np.fabs(Isimp-test))\n",
    "    errm.append(np.fabs(Imid-test))\n",
    "    errg.append(np.fabs(Igauss-test)+eps) # Epsilon hack so log(0) does not occur\n",
    "plt.semilogy(Nvec,errt,'ro-',Nvec,errs,'bo-',Nvec,errm,'go-',Nvec,errg,'mo-')\n",
    "plt.legend(['Trapezoidal','Simpsons','Midpoint','GQ'],loc='center left',bbox_to_anchor=(0.9,0.5))\n",
    "plt.xticks(Nvec)\n",
    "plt.xlabel('nodes')\n",
    "plt.ylabel('log(err)');"
   ]
  },
  {
   "cell_type": "markdown",
   "metadata": {},
   "source": [
    "# Gaussian Quadrature Rule Versus Trapezoidal Rule"
   ]
  },
  {
   "cell_type": "markdown",
   "metadata": {},
   "source": [
    "###### How many nodes are required to estimate $\\int_{-1}^1e^{3x}\\,dx$ to within an error of $E = 10^{-4}$ using the trapezoidal rule?"
   ]
  },
  {
   "cell_type": "code",
   "execution_count": 17,
   "metadata": {},
   "outputs": [
    {
     "name": "stdout",
     "output_type": "stream",
     "text": [
      "The estimated number of nodes required 1098.7851408136567\n",
      "The number of nodes required as an int 1099\n"
     ]
    }
   ],
   "source": [
    "exact = (np.exp(3)-np.exp(-3))/3\n",
    "maxnodes = np.sqrt(6*np.exp(3))*1e2+1 # Trapezoidal estimate\n",
    "print('The estimated number of nodes required {}'.format(maxnodes))\n",
    "print('The number of nodes required as an int {}'.format(int(np.ceil(maxnodes))))"
   ]
  },
  {
   "cell_type": "markdown",
   "metadata": {},
   "source": [
    "###### Test trapezoidal rule (N = 1099) on $\\int_{-1}^1e^{3x}\\,dx$"
   ]
  },
  {
   "cell_type": "code",
   "execution_count": 18,
   "metadata": {},
   "outputs": [
    {
     "name": "stdout",
     "output_type": "stream",
     "text": [
      "Trapezoidal rule yields 6.678599903779855\n",
      "Exact value is 6.678583284939935\n",
      "Absolute error is 1.6618839919324557e-05\n"
     ]
    }
   ],
   "source": [
    "Nmax = int(np.ceil(maxnodes))\n",
    "N = Nmax # Worst-case scenario\n",
    "#N = 635 # Actual number of nodes required\n",
    "x = np.linspace(-1,1,N)\n",
    "h = lambda x: np.exp(3*x)\n",
    "Itrap = mytrap(h,N,-1,1)\n",
    "print('Trapezoidal rule yields {}'.format(Itrap))\n",
    "print('Exact value is {}'.format(exact))\n",
    "print('Absolute error is {}'.format(np.fabs(Itrap-exact)))"
   ]
  },
  {
   "cell_type": "code",
   "execution_count": 19,
   "metadata": {},
   "outputs": [
    {
     "name": "stdout",
     "output_type": "stream",
     "text": [
      "Gaussian rule yields 6.678525906128526\n",
      "Exact value is 6.678583284939935\n",
      "Absolute error is 5.7378811409769526e-05\n"
     ]
    }
   ],
   "source": [
    "N = 5\n",
    "x,w = leggauss(N)\n",
    "Igauss = np.dot(h(x),w)\n",
    "print('Gaussian rule yields {}'.format(Igauss))\n",
    "print('Exact value is {}'.format(exact))\n",
    "print('Absolute error is {}'.format(np.fabs(Igauss-exact)))"
   ]
  },
  {
   "cell_type": "markdown",
   "metadata": {},
   "source": [
    "### Takeaway: \n",
    "* <font color = blue> Obtaining the nodes and weights for the trapezoidal rule is simple\n",
    "* <font color = blue> Obtaining the nodes and weights for GQ takes more work\n",
    "* <font color = blue> GQ requires significantly less nodes and weights however\n",
    "* <font color = blue> GQ with 5 nodes attained (roughly) $10^{-4}$ accuracy versus 635 nodes for the trapezoidal rule\n",
    "* <font color = blue> If you get to choose the nodes, generally choose GQ nodes and weights for superior performance\n",
    "* <font color = blue> Work smarter, not harder ... the analysis part of numerical analysis is awesome!"
   ]
  },
  {
   "cell_type": "markdown",
   "metadata": {},
   "source": [
    "### <font color = 'red'>What is the degree of precision for Gaussian Quadrature?"
   ]
  },
  {
   "cell_type": "markdown",
   "metadata": {},
   "source": [
    "--[back to top](#Comparing-Quadrature-Rules-with-Semilogy-Plots)"
   ]
  }
 ],
 "metadata": {
  "kernelspec": {
   "display_name": "Python 3",
   "language": "python",
   "name": "python3"
  },
  "language_info": {
   "codemirror_mode": {
    "name": "ipython",
    "version": 3
   },
   "file_extension": ".py",
   "mimetype": "text/x-python",
   "name": "python",
   "nbconvert_exporter": "python",
   "pygments_lexer": "ipython3",
   "version": "3.7.3"
  }
 },
 "nbformat": 4,
 "nbformat_minor": 4
}
