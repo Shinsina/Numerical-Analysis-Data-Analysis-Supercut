{
 "cells": [
  {
   "cell_type": "markdown",
   "metadata": {},
   "source": [
    "# Exam 2 Code"
   ]
  },
  {
   "cell_type": "markdown",
   "metadata": {},
   "source": [
    "### I will execute the following cells in the order given and examine your answers. In some cases functions, such as $f(x)$ will get overwritten by subsequent problems so be careful when going back over your work."
   ]
  },
  {
   "cell_type": "markdown",
   "metadata": {},
   "source": [
    "### If a cell produces a syntax or exception error, you will receive a 0 for the problem. You may recycle code from your numerical experiments, homework solutions, class notes etc."
   ]
  },
  {
   "cell_type": "code",
   "execution_count": 1,
   "metadata": {},
   "outputs": [],
   "source": [
    "import numpy as np\n",
    "import matplotlib.pyplot as plt\n",
    "from scipy.interpolate import barycentric_interpolate as pn\n",
    "from numpy.polynomial.legendre import leggauss # Gaussian Quadrature Nodes and Weights\n",
    "from scipy.special import fresnel # Fresnel sine and cosine integrals"
   ]
  },
  {
   "cell_type": "markdown",
   "metadata": {},
   "source": [
    "### 1. Use the integral $$4\\int_0^{\\frac{\\pi}2}\\sin^2(x)\\,dx$$ to estimate $\\pi$ using Simpson's rule. Use the minimum number of nodes required to produce an exact answer in each case.\n",
    "\n",
    "You may arrive at these numbers of nodes numerically (via experimentation, i.e. guess and check)."
   ]
  },
  {
   "cell_type": "code",
   "execution_count": 2,
   "metadata": {},
   "outputs": [],
   "source": [
    "def f(x):\n",
    "    return np.sin(x)**2"
   ]
  },
  {
   "cell_type": "code",
   "execution_count": 3,
   "metadata": {},
   "outputs": [],
   "source": [
    "# INSERT CODE HERE\n",
    "def simp(f,a,b,N):\n",
    "    h = (b-a)/(N-1)\n",
    "    x=np.linspace(a,b,N)\n",
    "    w = np.ones(N)\n",
    "    w[1:-1:2] = 4\n",
    "    w[2:-1:2] = 2\n",
    "    S = (h/3)*np.dot(f(x),w)\n",
    "    return S"
   ]
  },
  {
   "cell_type": "code",
   "execution_count": 4,
   "metadata": {},
   "outputs": [
    {
     "name": "stdout",
     "output_type": "stream",
     "text": [
      "3.1415926535897936\n",
      "-4.440892098500626e-16\n"
     ]
    }
   ],
   "source": [
    "a,b = 0,np.pi/2\n",
    "N = 3\n",
    "print(4*simp(f,a,b,N))\n",
    "print(np.pi-4*simp(f,a,b,N))\n",
    "#Python truncates pi at machine 0 so to get it to be \"exact\" \n",
    "#It technically takes 5 nodes but to be within machine 0 generally its 3\n",
    "#(Machine Zero was the desired precision)"
   ]
  },
  {
   "cell_type": "markdown",
   "metadata": {},
   "source": [
    "### 2. Solve $$\\int_0^x\\sin\\left(\\frac{\\pi}2t^2\\right)\\,dt = 0.5$$ using Newton's method with $x_0 = 0.75$ and the  quadrature rule of your choice for the function evaluations.\n",
    "* Use fresnel(x)[0] for the true value when computing your error.\n",
    "* The tolerance is $10^{-5}$\n",
    "* Your algorithm should result in fewer than 8 iterations.\n",
    "* Be as efficient as possible when using the quadrature rule.\n",
    "* The Fresnel function has been loaded for you above.\n",
    "* fresnel(x)[0]) is the Fresnel sine function"
   ]
  },
  {
   "cell_type": "code",
   "execution_count": null,
   "metadata": {},
   "outputs": [],
   "source": []
  },
  {
   "cell_type": "code",
   "execution_count": 5,
   "metadata": {},
   "outputs": [],
   "source": [
    "def simpsons(a,x,N):\n",
    "    h = (x-a)/(N-1)\n",
    "    x =np.linspace(a,x,N)\n",
    "    w = np.ones(N)\n",
    "    w[1:-1:2] = 4\n",
    "    w[2:-1:2] = 2\n",
    "    S = (h/3)*np.dot(g(x),w)-0.5\n",
    "    return S"
   ]
  },
  {
   "cell_type": "code",
   "execution_count": 6,
   "metadata": {},
   "outputs": [],
   "source": [
    "def g(x):\n",
    "    return np.sin(((np.pi)/2)*x**2)"
   ]
  },
  {
   "cell_type": "code",
   "execution_count": 7,
   "metadata": {},
   "outputs": [
    {
     "name": "stdout",
     "output_type": "stream",
     "text": [
      "1.0621571546996535\n",
      "0.5000034690497828\n",
      "4.17863663253789e-12\n",
      "5\n"
     ]
    },
    {
     "data": {
      "text/plain": [
       "[<matplotlib.lines.Line2D at 0x2b57e51c828>]"
      ]
     },
     "execution_count": 7,
     "metadata": {},
     "output_type": "execute_result"
    },
    {
     "data": {
      "image/png": "[encoded data removed]",
      "text/plain": [
       "<Figure size 432x288 with 1 Axes>"
      ]
     },
     "metadata": {
      "needs_background": "light"
     },
     "output_type": "display_data"
    }
   ],
   "source": [
    "ev = []\n",
    "x = 0.75\n",
    "MAXITS = 10\n",
    "tol = 1e-6\n",
    "k = 0\n",
    "err = 1\n",
    "N = 100000\n",
    "\n",
    "while err > tol and k < MAXITS:\n",
    "    eta = simpsons(0,x,N)/g(x)\n",
    "    x = x - eta\n",
    "    err = np.fabs(eta)\n",
    "    k +=1\n",
    "    ev.append(err)\n",
    "    \n",
    "print(x) #This is the estimate (Of the point at which the function results in .5)\n",
    "print(fresnel(x)[0]) #This is the actual value (This should be about .5)\n",
    "print(err) #This is the absolute error\n",
    "print(k) #This is the number of iterations it took\n",
    "plt.semilogy(np.arange(len(ev)),ev,'bo-')"
   ]
  },
  {
   "cell_type": "code",
   "execution_count": 8,
   "metadata": {},
   "outputs": [
    {
     "name": "stdout",
     "output_type": "stream",
     "text": [
      "root = 1.062157 in 5 iterations\n",
      "S(root) = 0.500003\n"
     ]
    }
   ],
   "source": [
    "# INSERT CODE HERE\n",
    "# YOU MAY USE THE CODE BELOW TO DISPLAY YOUR RESULTS OR COMMENT IT OUT OR CHANGE IT ETC.\n",
    "print('root = {:1.6f} in {:d} iterations'.format(x, k))\n",
    "print('S(root) = {:1.6f}'.format(fresnel(x)[0]))"
   ]
  },
  {
   "cell_type": "markdown",
   "metadata": {},
   "source": [
    "### 3. Use Boole's Rule to approximate $\\int_{-2}^3e^{0.2x}\\,dx$. How accurate is this approximation?\n",
    "Boole's Rule is $$\\int_{x_0}^{x_4}f(x)\\,dx\\approx\\frac{2}{45}h\\left[7f_0+32f_1+12f_2+32f_3+7f_4\\right]$$"
   ]
  },
  {
   "cell_type": "code",
   "execution_count": 9,
   "metadata": {},
   "outputs": [],
   "source": [
    "def o(x):\n",
    "    return np.exp(0.2*x)"
   ]
  },
  {
   "cell_type": "code",
   "execution_count": 10,
   "metadata": {},
   "outputs": [
    {
     "name": "stdout",
     "output_type": "stream",
     "text": [
      "5.758996652359827\n",
      "-2.8803598270954467e-06\n"
     ]
    }
   ],
   "source": [
    "# INSERT CODE HERE\n",
    "# YOU MAY USE THE CODE BELOW TO DISPLAY YOUR RESULTS OR COMMENT IT OUT OR CHANGE IT ETC.\n",
    "def boole (f,a,b,n):\n",
    "\n",
    "       dx = (b - a) / (n-1)\n",
    "       sum = 7*(f(a) + f(b))\n",
    "       sum += 32*(f(a+dx)+f(b-dx))\n",
    "       sum += 12*(f(a+2*dx))\n",
    "       return 2*sum * dx / 45\n",
    "\n",
    "#print(\"boole f1:\",boole(f,0,1,5))\n",
    "#print(\"boole f2:\",boole(g,0,4,5))\n",
    "print(boole(o,-2,3,5)) #Booles rule calculation\n",
    "#print(f'I(f) = {BR}')\n",
    "#print(f'err = {np.fabs(boole-(np.exp(0.6) - np.exp(-0.4))/0.2)}')\n",
    "print(5.758993772-boole(o,-2,3,5)) #comparision between actual result and booles"
   ]
  },
  {
   "cell_type": "markdown",
   "metadata": {},
   "source": [
    "### Problem 4. Given the data, interpolate the value $p_n(1.718)$ and plot the interpolating polynomial using 51 interpolating values on the interval $[-1.7,2.7]$."
   ]
  },
  {
   "cell_type": "code",
   "execution_count": 11,
   "metadata": {},
   "outputs": [
    {
     "name": "stdout",
     "output_type": "stream",
     "text": [
      "[-1.8465 -1.3931 -0.9396 -0.4861 -0.0327  0.4208  0.8743  1.3277  1.7812\n",
      "  2.2347  2.6881]\n",
      "[-0.3711 -0.611   0.2076  1.7157  0.108  -0.6206 -0.3194  1.3562  0.8861\n",
      " -0.4895 -0.5641]\n",
      "0.2581991146155427\n",
      "1.718 of the dataset occurs at y equals 1.25820\n"
     ]
    },
    {
     "data": {
      "image/png": "[encoded data removed]",
      "text/plain": [
       "<Figure size 432x288 with 1 Axes>"
      ]
     },
     "metadata": {
      "needs_background": "light"
     },
     "output_type": "display_data"
    }
   ],
   "source": [
    "x = np.array([-2.300,-1.8465,-1.3931,-0.9396,-0.4861,-0.0327,0.4208,0.8743,1.3277,1.7812,2.2347,2.6881,3.1416])\n",
    "y = np.array([ 1.2457,-0.3711,-0.6110,0.2076,1.7157,0.1080,-0.6206,-0.3194,1.3562,0.8861,-0.4895,-0.5641,0.5378])\n",
    "xx=x[1:-1]\n",
    "yy=y[1:-1]\n",
    "print(xx)\n",
    "print(yy)\n",
    "z = pn(xx,yy,1.718)\n",
    "print(z-1)\n",
    "plt.plot(xx,yy,'r',[-2,2],[1,1],'k',1.718,z,'go')\n",
    "print('1.718 of the dataset occurs at y equals {:2.5f}'.format(z))\n",
    "#Z should pull down towards where the black line is crossing the red graph"
   ]
  },
  {
   "cell_type": "code",
   "execution_count": 12,
   "metadata": {},
   "outputs": [],
   "source": [
    "# INSERT CODE HERE\n",
    "# YOU MAY USE THE CODE BELOW TO DISPLAY YOUR RESULTS OR COMMENT IT OUT OR CHANGE IT ETC."
   ]
  },
  {
   "cell_type": "markdown",
   "metadata": {},
   "source": [
    "### 5. Compare (using a semilogy error plot) the composite trapezoidal rule versus Gaussian quadrature over grid-sizes of $n = 2,4,6,\\ldots,20$ for approximating $$\\int_{-1}^1e^{\\sin(\\pi x)}\\,dx.$$\n",
    "* The exact value for testing the rules is given below"
   ]
  },
  {
   "cell_type": "code",
   "execution_count": 13,
   "metadata": {},
   "outputs": [
    {
     "name": "stdout",
     "output_type": "stream",
     "text": [
      "2.532131755504017\n"
     ]
    }
   ],
   "source": [
    "from scipy.special import iv\n",
    "# The exact value of this integral is given by the modified Bessel function of order 0\n",
    "test = 2*iv(0,1)\n",
    "print(test)"
   ]
  },
  {
   "cell_type": "code",
   "execution_count": 14,
   "metadata": {},
   "outputs": [],
   "source": [
    "def m(x):\n",
    "    return np.exp(np.sin(np.pi*x))"
   ]
  },
  {
   "cell_type": "code",
   "execution_count": 15,
   "metadata": {},
   "outputs": [],
   "source": [
    "def trap(f,a,b,N):\n",
    "    h = (b-a)/(N-1)\n",
    "    x=np.linspace(a,b,N)\n",
    "    w = np.ones(N)\n",
    "    w[1:-1] = 2\n",
    "    T = (h/2)*np.dot(m(x),w)\n",
    "    return T"
   ]
  },
  {
   "cell_type": "code",
   "execution_count": 16,
   "metadata": {},
   "outputs": [
    {
     "name": "stdout",
     "output_type": "stream",
     "text": [
      "2.532131755504017\n",
      "0.0\n"
     ]
    }
   ],
   "source": [
    "trap(m,-1,1,20)\n",
    "TT = trap(m,-1,1,20)\n",
    "print(TT)\n",
    "print(test-TT)"
   ]
  },
  {
   "cell_type": "code",
   "execution_count": 17,
   "metadata": {},
   "outputs": [
    {
     "name": "stdout",
     "output_type": "stream",
     "text": [
      "Gauss-Legendre solution: 2.53213e+00\n",
      "-9.001688283660769e-13\n"
     ]
    }
   ],
   "source": [
    "# INSERT CODE HERE\n",
    "#Gaussian Three-Point Rule\n",
    "# Define function and interval\n",
    "a = -1\n",
    "b = 1\n",
    "\n",
    "# Gauss-Legendre (default interval is [-1, 1])\n",
    "N = 20 #Seems you really only need about 9 nodes to get the accuracy \"maximized\"\n",
    "x, w = np.polynomial.legendre.leggauss(N)\n",
    "# Translate x values from the interval [-1, 1] to [a, b]\n",
    "t = 0.5*(x + 1)*(b - a) + a\n",
    "gauss = sum(w * m(t)) * 0.5*(b - a)\n",
    "\n",
    "print ('Gauss-Legendre solution: {:2.5e}'.format(gauss))\n",
    "print(test-gauss)"
   ]
  },
  {
   "cell_type": "code",
   "execution_count": null,
   "metadata": {},
   "outputs": [],
   "source": []
  },
  {
   "cell_type": "markdown",
   "metadata": {},
   "source": [
    "-- [back to top](#Exam-2-Code)"
   ]
  }
 ],
 "metadata": {
  "kernelspec": {
   "display_name": "Python 3",
   "language": "python",
   "name": "python3"
  },
  "language_info": {
   "codemirror_mode": {
    "name": "ipython",
    "version": 3
   },
   "file_extension": ".py",
   "mimetype": "text/x-python",
   "name": "python",
   "nbconvert_exporter": "python",
   "pygments_lexer": "ipython3",
   "version": "3.7.3"
  }
 },
 "nbformat": 4,
 "nbformat_minor": 4
}
