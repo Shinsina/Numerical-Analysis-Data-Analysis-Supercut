{
 "cells": [
  {
   "cell_type": "code",
   "execution_count": 2,
   "metadata": {},
   "outputs": [],
   "source": [
    "import numpy as np\n",
    "import matplotlib.pyplot as plt"
   ]
  },
  {
   "cell_type": "code",
   "execution_count": 3,
   "metadata": {},
   "outputs": [],
   "source": [
    "def f(x) :\n",
    "    return np.cos(x)"
   ]
  },
  {
   "cell_type": "code",
   "execution_count": 4,
   "metadata": {},
   "outputs": [
    {
     "name": "stdout",
     "output_type": "stream",
     "text": [
      "L = 1.1199 and R = 0.9688\n"
     ]
    }
   ],
   "source": [
    "#Left and Right\n",
    "a,b = -2,3\n",
    "N = 20\n",
    "h = (b-a)/(N-1)\n",
    "x=np.linspace(a,b,N)\n",
    "L = h*np.sum(f(x[:-1]))\n",
    "R = h*np.sum(f(x[1:]))\n",
    "print ('L = {:2.4f} and R = {:2.4f}'.format(L,R))"
   ]
  },
  {
   "cell_type": "code",
   "execution_count": 5,
   "metadata": {},
   "outputs": [
    {
     "name": "stdout",
     "output_type": "stream",
     "text": [
      "T = 1.0443\n",
      "Average of L and R is 1.0443\n"
     ]
    }
   ],
   "source": [
    "#Trapezoid\n",
    "a,b = -2,3\n",
    "N = 20\n",
    "h = (b-a)/(N-1)\n",
    "x=np.linspace(a,b,N)\n",
    "w = np.ones(N)\n",
    "w[1:-1] = 2\n",
    "T = (h/2)*np.dot(f(x),w)\n",
    "print ('T = {:2.4f}'.format(T))\n",
    "print('Average of L and R is {:2.4f}'.format((L+R)/2))"
   ]
  },
  {
   "cell_type": "code",
   "execution_count": 9,
   "metadata": {},
   "outputs": [
    {
     "name": "stdout",
     "output_type": "stream",
     "text": [
      "M = 1.0535\n"
     ]
    }
   ],
   "source": [
    "#Midpoint Rule\n",
    "a,b = -2,3\n",
    "N = 20\n",
    "h = (b-a)/(N-1)\n",
    "x=np.linspace(a,b,N)\n",
    "c= (x[:-1]+x[1:])/2 # Compute midpoints\n",
    "#print(len(x))\n",
    "#print(len(c))\n",
    "M = h*np.sum(f(c))\n",
    "print('M = {:2.4f}'.format(M))"
   ]
  },
  {
   "cell_type": "code",
   "execution_count": 7,
   "metadata": {},
   "outputs": [
    {
     "name": "stdout",
     "output_type": "stream",
     "text": [
      "S = 1.0504\n"
     ]
    }
   ],
   "source": [
    "#Simpson's Rule\n",
    "a,b = -2,3\n",
    "N = 21\n",
    "h = (b-a)/(N-1)\n",
    "x=np.linspace(a,b,N)\n",
    "w = np.ones(N)\n",
    "w[1:-1:2] = 4\n",
    "w[2:-1:2] = 2\n",
    "S = (h/3)*np.dot(f(x),w)\n",
    "print('S = {:2.4f}'.format(S))"
   ]
  },
  {
   "cell_type": "code",
   "execution_count": null,
   "metadata": {},
   "outputs": [],
   "source": []
  }
 ],
 "metadata": {
  "kernelspec": {
   "display_name": "Python 3",
   "language": "python",
   "name": "python3"
  },
  "language_info": {
   "codemirror_mode": {
    "name": "ipython",
    "version": 3
   },
   "file_extension": ".py",
   "mimetype": "text/x-python",
   "name": "python",
   "nbconvert_exporter": "python",
   "pygments_lexer": "ipython3",
   "version": "3.7.3"
  }
 },
 "nbformat": 4,
 "nbformat_minor": 2
}
