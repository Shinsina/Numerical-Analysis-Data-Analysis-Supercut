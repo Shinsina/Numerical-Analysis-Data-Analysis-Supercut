{
 "cells": [
  {
   "cell_type": "code",
   "execution_count": 1,
   "metadata": {},
   "outputs": [],
   "source": [
    "import numpy as np\n",
    "import matplotlib.pyplot as plt\n",
    "from scipy import special"
   ]
  },
  {
   "cell_type": "code",
   "execution_count": 2,
   "metadata": {},
   "outputs": [],
   "source": [
    "#Number 1\n",
    "def f(x) :\n",
    "    return np.cos(((np.pi)/2)*x**2)"
   ]
  },
  {
   "cell_type": "code",
   "execution_count": 3,
   "metadata": {},
   "outputs": [],
   "source": [
    "#Left and Right\n",
    "def left(f,a,b,N):\n",
    "    h = (b-a)/(N-1)\n",
    "    x=np.linspace(a,b,N)\n",
    "    L = h*np.sum(f(x[:-1]))\n",
    "    return L"
   ]
  },
  {
   "cell_type": "code",
   "execution_count": 4,
   "metadata": {},
   "outputs": [],
   "source": [
    "def right(f,a,b,N):\n",
    "    h = (b-a)/(N-1)\n",
    "    x=np.linspace(a,b,N)\n",
    "    R = h*np.sum(f(x[1:]))\n",
    "    return R"
   ]
  },
  {
   "cell_type": "code",
   "execution_count": 5,
   "metadata": {},
   "outputs": [],
   "source": [
    "#Trapezoid\n",
    "def trap(f,a,b,N):\n",
    "    h = (b-a)/(N-1)\n",
    "    x=np.linspace(a,b,N)\n",
    "    w = np.ones(N)\n",
    "    w[1:-1] = 2\n",
    "    T = (h/2)*np.dot(f(x),w)\n",
    "    return T"
   ]
  },
  {
   "cell_type": "code",
   "execution_count": 6,
   "metadata": {},
   "outputs": [],
   "source": [
    "#Midpoint Rule\n",
    "def mid(f,a,b,N):\n",
    "    h = (b-a)/(N-1)\n",
    "    x=np.linspace(a,b,N)\n",
    "    c= (x[:-1]+x[1:])/2 # Compute midpoints\n",
    "    #print(len(x))\n",
    "    #print(len(c))\n",
    "    M = h*np.sum(f(c))\n",
    "    return M"
   ]
  },
  {
   "cell_type": "code",
   "execution_count": 7,
   "metadata": {},
   "outputs": [],
   "source": [
    "#Simpson's Rule\n",
    "def simp(f,a,b,N):\n",
    "    h = (b-a)/(N-1)\n",
    "    x=np.linspace(a,b,N)\n",
    "    w = np.ones(N)\n",
    "    w[1:-1:2] = 4\n",
    "    w[2:-1:2] = 2\n",
    "    S = (h/3)*np.dot(f(x),w)\n",
    "    return S"
   ]
  },
  {
   "cell_type": "code",
   "execution_count": 8,
   "metadata": {},
   "outputs": [
    {
     "data": {
      "text/plain": [
       "[<matplotlib.lines.Line2D at 0x26b22ec4240>,\n",
       " <matplotlib.lines.Line2D at 0x26b22efa630>,\n",
       " <matplotlib.lines.Line2D at 0x26b23d875c0>,\n",
       " <matplotlib.lines.Line2D at 0x26b22efa860>,\n",
       " <matplotlib.lines.Line2D at 0x26b22efa9b0>]"
      ]
     },
     "execution_count": 8,
     "metadata": {},
     "output_type": "execute_result"
    },
    {
     "data": {
      "image/png": "[encoded data removed]",
      "text/plain": [
       "<Figure size 432x288 with 1 Axes>"
      ]
     },
     "metadata": {
      "needs_background": "light"
     },
     "output_type": "display_data"
    }
   ],
   "source": [
    "a,b = 0,1\n",
    "nn = [9,17,33,65,129]\n",
    "leftoutput = []\n",
    "rightoutput = []\n",
    "trapoutput = []\n",
    "midoutput = []\n",
    "simpoutput = []\n",
    "\n",
    "for k in nn:\n",
    "    leftoutput.append(left(f,a,b,k))\n",
    "    rightoutput.append(right(f,a,b,k))\n",
    "    trapoutput.append(trap(f,a,b,k))\n",
    "    midoutput.append(mid(f,a,b,k))\n",
    "    simpoutput.append(simp(f,a,b,k))\n",
    "    \n",
    "\n",
    "lefterr = []\n",
    "righterr = []\n",
    "traperr = []\n",
    "miderr = []\n",
    "simperr = []\n",
    "p = 0\n",
    "for p in range(len(rightoutput)):\n",
    "    lefterr.append(np.fabs(leftoutput[p]-special.fresnel(1)[1]))\n",
    "    righterr.append(np.fabs(rightoutput[p]-special.fresnel(1)[1]))\n",
    "    traperr.append(np.fabs(trapoutput[p]-special.fresnel(1)[1]))\n",
    "    miderr.append(np.fabs(midoutput[p]-special.fresnel(1)[1]))\n",
    "    simperr.append(np.fabs(simpoutput[p]-special.fresnel(1)[1]))\n",
    "\n",
    "plt.semilogy(nn,lefterr,'ro',nn,righterr,'bo',nn,traperr,'go',nn,miderr,'mo',nn,simperr,'co') "
   ]
  },
  {
   "cell_type": "code",
   "execution_count": 9,
   "metadata": {},
   "outputs": [],
   "source": [
    "#Number 3\n",
    "def g(x):\n",
    "    return np.exp(-0.2*x**2)-((np.sin(x))/x)"
   ]
  },
  {
   "cell_type": "code",
   "execution_count": 10,
   "metadata": {},
   "outputs": [],
   "source": [
    "def gp(x):\n",
    "    return (g(x+g(x))-g(x))/(g(x))"
   ]
  },
  {
   "cell_type": "code",
   "execution_count": 11,
   "metadata": {},
   "outputs": [
    {
     "name": "stdout",
     "output_type": "stream",
     "text": [
      "2.0663938632996914\n",
      "1.2547744780995713e-10\n",
      "4\n"
     ]
    }
   ],
   "source": [
    "x = 2\n",
    "MAXITS = 6\n",
    "tol = 1e-8\n",
    "k = 0\n",
    "err = 1\n",
    "\n",
    "while err > tol and k < MAXITS:\n",
    "    eta = g(x)/gp(x)\n",
    "    x = x - eta\n",
    "    err = np.fabs(eta)\n",
    "    k +=1\n",
    "    \n",
    "print(x)\n",
    "print(err)\n",
    "print(k)"
   ]
  },
  {
   "cell_type": "code",
   "execution_count": 12,
   "metadata": {},
   "outputs": [],
   "source": [
    "#Number 4\n",
    "def A(r):\n",
    "    P=1200\n",
    "    return P*(1-(1+r/12)**(-360))-199000*(r/12)"
   ]
  },
  {
   "cell_type": "code",
   "execution_count": 13,
   "metadata": {},
   "outputs": [],
   "source": [
    "def Ap(r):\n",
    "    P = 1200\n",
    "    return (A(r+A(r))-A(r))/(A(r))"
   ]
  },
  {
   "cell_type": "code",
   "execution_count": 14,
   "metadata": {},
   "outputs": [
    {
     "name": "stdout",
     "output_type": "stream",
     "text": [
      "0.061408681405920554\n",
      "1.031201154035984e-237\n",
      "4\n"
     ]
    }
   ],
   "source": [
    "r = .1\n",
    "MAXITS = 10\n",
    "tol = 1e-8\n",
    "k = 0\n",
    "err = 1\n",
    "\n",
    "while err > tol and k < MAXITS:\n",
    "    eta = A(r)/Ap(r)\n",
    "    r = r - eta \n",
    "    err = np.fabs(eta)\n",
    "    k +=1\n",
    "    \n",
    "print(r)\n",
    "print(err)\n",
    "print(k)"
   ]
  },
  {
   "cell_type": "code",
   "execution_count": null,
   "metadata": {},
   "outputs": [],
   "source": []
  },
  {
   "cell_type": "code",
   "execution_count": null,
   "metadata": {},
   "outputs": [],
   "source": []
  }
 ],
 "metadata": {
  "kernelspec": {
   "display_name": "Python 3",
   "language": "python",
   "name": "python3"
  },
  "language_info": {
   "codemirror_mode": {
    "name": "ipython",
    "version": 3
   },
   "file_extension": ".py",
   "mimetype": "text/x-python",
   "name": "python",
   "nbconvert_exporter": "python",
   "pygments_lexer": "ipython3",
   "version": "3.7.3"
  }
 },
 "nbformat": 4,
 "nbformat_minor": 2
}
