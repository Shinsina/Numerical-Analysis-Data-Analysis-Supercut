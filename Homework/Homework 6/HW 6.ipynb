{
 "cells": [
  {
   "cell_type": "code",
   "execution_count": 1,
   "metadata": {},
   "outputs": [],
   "source": [
    "import numpy as np\n",
    "import matplotlib.pyplot as plt"
   ]
  },
  {
   "cell_type": "code",
   "execution_count": 2,
   "metadata": {},
   "outputs": [],
   "source": [
    "#Number 5\n",
    "#Newton\n",
    "def f(x):\n",
    "    return np.exp(6*x)+3*((np.log(2))**2)*np.exp(2*x)-(np.log(8)*np.exp(4*x))-(np.log(2)**3)"
   ]
  },
  {
   "cell_type": "code",
   "execution_count": 3,
   "metadata": {},
   "outputs": [],
   "source": [
    "def fp(x):\n",
    "    return (6*np.exp(6*x)+6*np.exp(2*x)*(np.log(2)**2)-(4*np.exp(4*x)*np.log(8)))"
   ]
  },
  {
   "cell_type": "code",
   "execution_count": 4,
   "metadata": {},
   "outputs": [
    {
     "name": "stdout",
     "output_type": "stream",
     "text": [
      "-0.18327403783695997\n",
      "8.785130929033892e-06\n",
      "23\n"
     ]
    }
   ],
   "source": [
    "x = -.5\n",
    "MAXITS = 30\n",
    "tol = 1e-5\n",
    "k = 0\n",
    "err = 1\n",
    "unn = []\n",
    "\n",
    "while err > tol and k < MAXITS:\n",
    "    eta = (f(x)/fp(x))\n",
    "    x = x - eta\n",
    "    err = np.fabs(eta)\n",
    "    unn.append(err)\n",
    "    k +=1\n",
    "    \n",
    "print(x)\n",
    "print(err)\n",
    "print(k)"
   ]
  },
  {
   "cell_type": "code",
   "execution_count": 5,
   "metadata": {},
   "outputs": [],
   "source": [
    "#Bisection\n",
    "def g(x):\n",
    "    return np.exp(6*x)+3*((np.log(2))**2)*np.exp(2*x)-(np.log(8)*np.exp(4*x))-(np.log(2)**3)"
   ]
  },
  {
   "cell_type": "code",
   "execution_count": 6,
   "metadata": {},
   "outputs": [],
   "source": [
    "bi = []\n",
    "def bisect(a, b, func, MAXITS = 100, tol = 1e-5):\n",
    "    # ******************************************************************************\n",
    "    # Implement the bisection algorithm for locating the root of a function\n",
    "    #\n",
    "    # Arguments:\n",
    "    # a = left endpoint\n",
    "    # b = right endpoint (assuming an intelligent user so we will not test if b > a)\n",
    "    # MAXITS = maximum number of iterations before stopping, default = 100\n",
    "    # tol = tolerance, when is error < tol? default = 1e-8\n",
    "    # ******************************************************************************\n",
    "    \n",
    "    # Prime the algorithm with an estimate of the root\n",
    "    # Assume and intelligent use who inputs b > a\n",
    "    error = (b - a)/2\n",
    "    c = a + error # Safe method for computing average\n",
    "    nits = 1 # Count this iteration\n",
    "    \n",
    "    \n",
    "    # Start the while loop\n",
    "    while np.fabs(error) > tol and nits < MAXITS:\n",
    "    \n",
    "        # Check the conditions using the intermediate value theorem, remember to use np.sign\n",
    "        # Redifine the interval, is a = c or is b = c?\n",
    "        # Assign the new c\n",
    "        if (np.sign(g(a))*np.sign(g(c))) < 0:\n",
    "            b = c\n",
    "        else:\n",
    "            a = c\n",
    "        error = (b-a)/2# Use the same error that you chose from above\n",
    "        bi.append(error)\n",
    "        c = a + error# Remember to redefine c\n",
    "        nits += 1\n",
    "        \n",
    "    return c, error, nits"
   ]
  },
  {
   "cell_type": "code",
   "execution_count": 7,
   "metadata": {},
   "outputs": [
    {
     "name": "stdout",
     "output_type": "stream",
     "text": [
      "Root = -0.18326568603515625 in 17 iterations.\n"
     ]
    }
   ],
   "source": [
    "a = -1; b = 0;\n",
    "c, err, n = bisect(a,b,g);\n",
    "print('Root = {} in {:d} iterations.'.format(c,n))"
   ]
  },
  {
   "cell_type": "code",
   "execution_count": 8,
   "metadata": {},
   "outputs": [],
   "source": [
    "#Newtons (Optimized)\n",
    "def h(x):\n",
    "    return np.exp(6*x)+3*((np.log(2))**2)*np.exp(2*x)-(np.log(8)*np.exp(4*x))-(np.log(2)**3)"
   ]
  },
  {
   "cell_type": "code",
   "execution_count": 9,
   "metadata": {},
   "outputs": [],
   "source": [
    "def hp(x):\n",
    "    return (6*np.exp(6*x)+6*np.exp(2*x)*(np.log(2)**2)-(4*np.exp(4*x)*np.log(8)))"
   ]
  },
  {
   "cell_type": "code",
   "execution_count": 10,
   "metadata": {},
   "outputs": [
    {
     "name": "stdout",
     "output_type": "stream",
     "text": [
      "-0.18325982679748454\n",
      "6.0760686402568525e-06\n",
      "9\n"
     ]
    }
   ],
   "source": [
    "x = -.5\n",
    "m = 2\n",
    "MAXITS = 30\n",
    "tol = 1e-5\n",
    "k = 0\n",
    "err = 1\n",
    "on = []\n",
    "\n",
    "while err > tol and k < MAXITS:\n",
    "    eta = m*(h(x)/hp(x))\n",
    "    x = x - eta\n",
    "    err = np.fabs(eta)\n",
    "    on.append(err)\n",
    "    k +=1\n",
    "    \n",
    "print(x)\n",
    "print(err)\n",
    "print(k)"
   ]
  },
  {
   "cell_type": "code",
   "execution_count": 11,
   "metadata": {},
   "outputs": [
    {
     "data": {
      "text/plain": [
       "<matplotlib.legend.Legend at 0x23bb2937a58>"
      ]
     },
     "execution_count": 11,
     "metadata": {},
     "output_type": "execute_result"
    },
    {
     "data": {
      "image/png": "[encoded data removed]",
      "text/plain": [
       "<Figure size 432x288 with 1 Axes>"
      ]
     },
     "metadata": {
      "needs_background": "light"
     },
     "output_type": "display_data"
    }
   ],
   "source": [
    "plt.semilogy(range(0,len(unn)),unn,'ro-',range(0,len(bi)),bi,'bo-',range(0,len(on)),on,'go-')\n",
    "plt.xlabel('Iterations')\n",
    "plt.ylabel('log(err)')\n",
    "plt.legend(['Unoptimized Newton', 'Bisection', 'Optimized Netwon'])"
   ]
  },
  {
   "cell_type": "code",
   "execution_count": null,
   "metadata": {},
   "outputs": [],
   "source": []
  }
 ],
 "metadata": {
  "kernelspec": {
   "display_name": "Python 3",
   "language": "python",
   "name": "python3"
  },
  "language_info": {
   "codemirror_mode": {
    "name": "ipython",
    "version": 3
   },
   "file_extension": ".py",
   "mimetype": "text/x-python",
   "name": "python",
   "nbconvert_exporter": "python",
   "pygments_lexer": "ipython3",
   "version": "3.7.3"
  }
 },
 "nbformat": 4,
 "nbformat_minor": 2
}
