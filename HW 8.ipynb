{
 "cells": [
  {
   "cell_type": "code",
   "execution_count": 1,
   "metadata": {},
   "outputs": [],
   "source": [
    "import numpy as np\n",
    "import matplotlib.pyplot as plt"
   ]
  },
  {
   "cell_type": "code",
   "execution_count": 2,
   "metadata": {},
   "outputs": [],
   "source": [
    "#Number 1\n",
    "#Part A\n",
    "def f(x):\n",
    "    return (np.cos(2*x))/(np.exp(x))"
   ]
  },
  {
   "cell_type": "code",
   "execution_count": 3,
   "metadata": {},
   "outputs": [],
   "source": [
    "#Simpson's Rule\n",
    "def simp(f,a,b,N):\n",
    "    h = (b-a)/(N-1)\n",
    "    x=np.linspace(a,b,N)\n",
    "    w = np.ones(N)\n",
    "    w[1:-1:2] = 4\n",
    "    w[2:-1:2] = 2\n",
    "    S = (h/3)*np.dot(f(x),w)\n",
    "    return S"
   ]
  },
  {
   "cell_type": "code",
   "execution_count": 4,
   "metadata": {},
   "outputs": [
    {
     "name": "stdout",
     "output_type": "stream",
     "text": [
      "0.19962605243453754\n"
     ]
    }
   ],
   "source": [
    "simp(f,0,2*np.pi,121)\n",
    "SS = simp(f,0,2*np.pi,121)\n",
    "print(SS)"
   ]
  },
  {
   "cell_type": "code",
   "execution_count": 5,
   "metadata": {},
   "outputs": [],
   "source": [
    "#Part B\n",
    "#Trapezoid Rule\n",
    "def trap(f,a,b,N):\n",
    "    h = (b-a)/(N-1)\n",
    "    x=np.linspace(a,b,N)\n",
    "    w = np.ones(N)\n",
    "    w[1:-1] = 2\n",
    "    T = (h/2)*np.dot(f(x),w)\n",
    "    return T"
   ]
  },
  {
   "cell_type": "code",
   "execution_count": 6,
   "metadata": {},
   "outputs": [
    {
     "name": "stdout",
     "output_type": "stream",
     "text": [
      "0.19985851507101868\n"
     ]
    }
   ],
   "source": [
    "trap(f,0,2*np.pi,120)\n",
    "TT = trap(f,0,2*np.pi,120)\n",
    "print(TT)"
   ]
  },
  {
   "cell_type": "code",
   "execution_count": 7,
   "metadata": {},
   "outputs": [],
   "source": [
    "#Part C\n",
    "#Gaussian Three-Point Rule"
   ]
  },
  {
   "cell_type": "code",
   "execution_count": 8,
   "metadata": {},
   "outputs": [],
   "source": [
    "def gauss(f,a,b,N):\n",
    "    h = (b-a)/(N-1)\n",
    "    x=np.linspace(a,b,N)\n",
    "    w = np.ones(N)\n",
    "    w[1::3] = 1\n",
    "    w[1::2] = 0\n",
    "    #print(w)\n",
    "    G = h*np.dot(5/9*f(x-h*np.sqrt(3/5))+8/9*f(x)+5/9*f(x+h*np.sqrt(3/5)),w)\n",
    "    return G"
   ]
  },
  {
   "cell_type": "code",
   "execution_count": 9,
   "metadata": {},
   "outputs": [
    {
     "name": "stdout",
     "output_type": "stream",
     "text": [
      "0.2537431181389687\n"
     ]
    }
   ],
   "source": [
    "gauss(f,0,2*np.pi,120)\n",
    "GG = gauss(f,0,2*np.pi,120)\n",
    "print(GG)"
   ]
  },
  {
   "cell_type": "code",
   "execution_count": 10,
   "metadata": {},
   "outputs": [],
   "source": [
    "simperr = np.fabs(SS-((1/5)*(1-np.exp(-2*np.pi)))) \n",
    "traperr = np.fabs(TT-((1/5)*(1-np.exp(-2*np.pi)))) \n",
    "gausserr = np.fabs(GG-((1/5)*(1-np.exp(-2*np.pi)))) "
   ]
  },
  {
   "cell_type": "code",
   "execution_count": 11,
   "metadata": {},
   "outputs": [
    {
     "name": "stdout",
     "output_type": "stream",
     "text": [
      "4.5901912085200003e-07\n",
      "0.0002320036173602824\n",
      "0.05411660668531032\n"
     ]
    }
   ],
   "source": [
    "print(simperr)\n",
    "print(traperr)\n",
    "print(gausserr)\n",
    "#Simpson's Rule is the best in terms of absolute error\n",
    "#Gaussian seems better if you use the even nodes over the odd nodes"
   ]
  },
  {
   "cell_type": "code",
   "execution_count": null,
   "metadata": {},
   "outputs": [],
   "source": []
  }
 ],
 "metadata": {
  "kernelspec": {
   "display_name": "Python 3",
   "language": "python",
   "name": "python3"
  },
  "language_info": {
   "codemirror_mode": {
    "name": "ipython",
    "version": 3
   },
   "file_extension": ".py",
   "mimetype": "text/x-python",
   "name": "python",
   "nbconvert_exporter": "python",
   "pygments_lexer": "ipython3",
   "version": "3.7.3"
  }
 },
 "nbformat": 4,
 "nbformat_minor": 2
}
