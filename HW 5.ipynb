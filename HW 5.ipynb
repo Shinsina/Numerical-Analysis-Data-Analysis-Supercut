{
 "cells": [
  {
   "cell_type": "code",
   "execution_count": 1,
   "metadata": {},
   "outputs": [],
   "source": [
    "import numpy as np\n",
    "import matplotlib.pyplot as plt"
   ]
  },
  {
   "cell_type": "code",
   "execution_count": 2,
   "metadata": {},
   "outputs": [],
   "source": [
    "#Number 4\n",
    "def f(x):\n",
    "    return np.exp(-0.2*x**2)-((np.sin(x))/x)"
   ]
  },
  {
   "cell_type": "code",
   "execution_count": 3,
   "metadata": {},
   "outputs": [],
   "source": [
    "def fp(x,xold):\n",
    "    return (f(x)-f(xold))/(x-xold)"
   ]
  },
  {
   "cell_type": "code",
   "execution_count": 4,
   "metadata": {},
   "outputs": [
    {
     "name": "stdout",
     "output_type": "stream",
     "text": [
      "2.06639386329968\n",
      "8.57253181132038e-11\n",
      "6\n"
     ]
    }
   ],
   "source": [
    "xold = 2\n",
    "x = 3\n",
    "MAXITS = 6\n",
    "tol = 1e-8\n",
    "k = 0\n",
    "err = 1\n",
    "\n",
    "while err > tol and k < MAXITS:\n",
    "    eta = f(x)/fp(x,xold)\n",
    "    xold = x\n",
    "    x = xold - eta\n",
    "    err = np.fabs(eta)\n",
    "    k +=1\n",
    "    \n",
    "print(x)\n",
    "print(err)\n",
    "print(k)"
   ]
  },
  {
   "cell_type": "code",
   "execution_count": 5,
   "metadata": {},
   "outputs": [],
   "source": [
    "#Number 5\n",
    "#Part A\n",
    "def simpsons(a,x,N):\n",
    "    h = (x-a)/(N-1)\n",
    "    x =np.linspace(a,x,N)\n",
    "    w = np.ones(N)\n",
    "    w[1:-1:2] = 4\n",
    "    w[2:-1:2] = 2\n",
    "    S = (h/3)*np.dot(g(x),w)-0.45\n",
    "    return S"
   ]
  },
  {
   "cell_type": "code",
   "execution_count": 6,
   "metadata": {},
   "outputs": [],
   "source": [
    "def g(x):\n",
    "    return (2/np.sqrt(np.pi))*(np.exp(-x**2))"
   ]
  },
  {
   "cell_type": "code",
   "execution_count": 7,
   "metadata": {},
   "outputs": [
    {
     "data": {
      "text/plain": [
       "0.39270171307749807"
      ]
     },
     "execution_count": 7,
     "metadata": {},
     "output_type": "execute_result"
    }
   ],
   "source": [
    "simpsons(0,1,11)"
   ]
  },
  {
   "cell_type": "code",
   "execution_count": 8,
   "metadata": {},
   "outputs": [
    {
     "name": "stdout",
     "output_type": "stream",
     "text": [
      "2.955250113734209e-06\n",
      "0.4226771073160693\n",
      "0.4499970447498863\n",
      "1.0761233839599285e-10\n",
      "4\n",
      "[0.0802313697909273, 0.002905014293284071, 3.462921324926147e-06, 1.0761233839599285e-10]\n"
     ]
    },
    {
     "data": {
      "text/plain": [
       "[<matplotlib.lines.Line2D at 0x260a11f6c50>]"
      ]
     },
     "execution_count": 8,
     "metadata": {},
     "output_type": "execute_result"
    },
    {
     "data": {
      "image/png": "[encoded data removed]",
      "text/plain": [
       "<Figure size 432x288 with 1 Axes>"
      ]
     },
     "metadata": {
      "needs_background": "light"
     },
     "output_type": "display_data"
    }
   ],
   "source": [
    "ev = []\n",
    "x = 0.5\n",
    "MAXITS = 10\n",
    "tol = 1e-6\n",
    "k = 0\n",
    "err = 1\n",
    "N = 5\n",
    "\n",
    "while err > tol and k < MAXITS:\n",
    "    eta = simpsons(0,x,N)/g(x)\n",
    "    x = x - eta\n",
    "    err = np.fabs(eta)\n",
    "    k +=1\n",
    "    ev.append(err)\n",
    "print(np.fabs(np.math.erf(x)-0.45)) #This is the error to the actual value\n",
    "print(x) #This is the estimate\n",
    "print(np.math.erf(x)) #This is the actual value\n",
    "print(err) #This is the absolute error\n",
    "print(k) #This is the number of iterations it took\n",
    "print(ev) #This is the absolute error at each iteration\n",
    "plt.semilogy(np.arange(len(ev)),ev,'bo-')"
   ]
  },
  {
   "cell_type": "code",
   "execution_count": 9,
   "metadata": {},
   "outputs": [
    {
     "data": {
      "text/plain": [
       "[<matplotlib.lines.Line2D at 0x260a13a9ba8>]"
      ]
     },
     "execution_count": 9,
     "metadata": {},
     "output_type": "execute_result"
    },
    {
     "data": {
      "image/png": "[encoded data removed]",
      "text/plain": [
       "<Figure size 432x288 with 1 Axes>"
      ]
     },
     "metadata": {
      "needs_background": "light"
     },
     "output_type": "display_data"
    }
   ],
   "source": [
    "E = []\n",
    "b = np.linspace (0.01,2,20)\n",
    "for x in b:\n",
    "    S = simpsons(0,x,20)\n",
    "    E.append(S)\n",
    "plt.plot(E)"
   ]
  },
  {
   "cell_type": "code",
   "execution_count": 10,
   "metadata": {},
   "outputs": [],
   "source": [
    "#Part B\n",
    "def trap(a,x,N):\n",
    "    h = (x-a)/(N-1)\n",
    "    x=np.linspace(a,x,N)\n",
    "    w = np.ones(N)\n",
    "    w[1:-1] = 2\n",
    "    T = (h/2)*np.dot(p(x),w)-.45\n",
    "    return T"
   ]
  },
  {
   "cell_type": "code",
   "execution_count": 11,
   "metadata": {},
   "outputs": [],
   "source": [
    "def p(x):\n",
    "    return (2/np.sqrt(np.pi))*(np.exp(-x**2))"
   ]
  },
  {
   "cell_type": "code",
   "execution_count": 12,
   "metadata": {},
   "outputs": [
    {
     "name": "stdout",
     "output_type": "stream",
     "text": [
      "9.165915441422534e-06\n",
      "0.42268995074447\n",
      "0.45000916591544143\n",
      "2.3084845425176571e-10\n",
      "4\n",
      "[0.0802313697909273, 0.002905014293284071, 3.462921324926147e-06, 1.0761233839599285e-10]\n"
     ]
    },
    {
     "data": {
      "text/plain": [
       "[<matplotlib.lines.Line2D at 0x260a13fbc18>]"
      ]
     },
     "execution_count": 12,
     "metadata": {},
     "output_type": "execute_result"
    },
    {
     "data": {
      "image/png": "[encoded data removed]",
      "text/plain": [
       "<Figure size 432x288 with 1 Axes>"
      ]
     },
     "metadata": {
      "needs_background": "light"
     },
     "output_type": "display_data"
    }
   ],
   "source": [
    "wv = []\n",
    "x = 0.5\n",
    "MAXITS = 10\n",
    "tol = 1e-6\n",
    "k = 0\n",
    "err = 1\n",
    "N = 37\n",
    "\n",
    "while err > tol and k < MAXITS:\n",
    "    eta = trap(0,x,N)/p(x)\n",
    "    x = x - eta\n",
    "    err = np.fabs(eta)\n",
    "    k +=1\n",
    "    wv.append(err)\n",
    "    \n",
    "print(np.fabs(np.math.erf(x)-0.45))\n",
    "print(x)\n",
    "print(np.math.erf(x))\n",
    "print(err)\n",
    "print(k)\n",
    "print(ev)\n",
    "plt.semilogy(np.arange(len(wv)),wv,'bo-')"
   ]
  },
  {
   "cell_type": "code",
   "execution_count": 13,
   "metadata": {},
   "outputs": [],
   "source": [
    "#Part C\n",
    "#It would appear for both quadrature rules it takes 4 iterations which\n",
    "#given that convergence is suppose to quadratic makes sense\n",
    "#In terms of number of nodes, Simpson's Rule takes 5 Nodes whereas Trapezoid Rule takes 37."
   ]
  },
  {
   "cell_type": "code",
   "execution_count": null,
   "metadata": {},
   "outputs": [],
   "source": []
  }
 ],
 "metadata": {
  "kernelspec": {
   "display_name": "Python 3",
   "language": "python",
   "name": "python3"
  },
  "language_info": {
   "codemirror_mode": {
    "name": "ipython",
    "version": 3
   },
   "file_extension": ".py",
   "mimetype": "text/x-python",
   "name": "python",
   "nbconvert_exporter": "python",
   "pygments_lexer": "ipython3",
   "version": "3.7.3"
  }
 },
 "nbformat": 4,
 "nbformat_minor": 2
}
