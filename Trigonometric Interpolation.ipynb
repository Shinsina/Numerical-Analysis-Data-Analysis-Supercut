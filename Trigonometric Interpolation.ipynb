{
 "cells": [
  {
   "cell_type": "markdown",
   "metadata": {},
   "source": [
    "# Trigonometric Interpolation"
   ]
  },
  {
   "cell_type": "code",
   "execution_count": 1,
   "metadata": {},
   "outputs": [],
   "source": [
    "import numpy as np\n",
    "import matplotlib.pyplot as plt"
   ]
  },
  {
   "cell_type": "markdown",
   "metadata": {},
   "source": [
    "### Sections\n",
    "- [Fourier Series Expansion for General (Periodic) Data](#Fourier-Series-Expansion-for-General-(Periodic)-Data)\n",
    "- [Cosine Series Expansion for Even Data](#Cosine-Series-Expansion-for-Even-Data)\n",
    "- [Sine Series Expansion for Odd Data](#Sine-Series-Expansion-for-Odd-Data)"
   ]
  },
  {
   "cell_type": "markdown",
   "metadata": {},
   "source": [
    "### Fourier Series Expansion for General (Periodic) Data"
   ]
  },
  {
   "cell_type": "markdown",
   "metadata": {},
   "source": [
    "###### $$f_j=\\sum_k a_k\\cos(kx_j) + b_k\\sin(kx_j)$$"
   ]
  },
  {
   "cell_type": "code",
   "execution_count": 2,
   "metadata": {},
   "outputs": [],
   "source": [
    "data = np.array([ 0.        ,  0.17696606,  0.34115286,  0.48599769,  0.60997088,\n",
    "        0.71471151,  0.80356439,  0.88061665,  0.9501694 ,  1.01652148,\n",
    "        1.08393925,  1.15670194,  1.23912216,  1.33543749,  1.44945452,\n",
    "        1.58381664,  1.73879163,  1.91058035,  2.08937646,  2.25776248,\n",
    "        2.39041069,  2.45622853,  2.42371559,  2.26917337,  1.98574833,\n",
    "        1.58989768,  1.12183251,  0.63840354,  0.20012714, -0.14313039,\n",
    "       -0.36261904, -0.45403664, -0.43371794, -0.33040834, -0.17627887,\n",
    "        0.        ])"
   ]
  },
  {
   "cell_type": "code",
   "execution_count": 3,
   "metadata": {},
   "outputs": [],
   "source": [
    "# Plot the data\n",
    "#N = len(data)\n",
    "#L = np.pi\n",
    "#x = np.linspace(-L,L,N)\n",
    "#plt.plot(x,data,'b.')\n",
    "#plt.xlabel('x')\n",
    "#plt.ylabel('y')\n",
    "#plt.title('Data');"
   ]
  },
  {
   "cell_type": "code",
   "execution_count": 14,
   "metadata": {},
   "outputs": [
    {
     "data": {
      "image/png": "[encoded data removed]",
      "text/plain": [
       "<Figure size 432x288 with 1 Axes>"
      ]
     },
     "metadata": {
      "needs_background": "light"
     },
     "output_type": "display_data"
    }
   ],
   "source": [
    "N = len(data)\n",
    "L = np.pi\n",
    "# Spatial grid\n",
    "x = np.linspace(-L,L,N)\n",
    "x = x[:-1] # Evaluations at first and last endpoint are added together due to periodicity\n",
    "# k = -Nk/2+1 ... Nk/2\n",
    "# Frequency grid\n",
    "Nk = 8\n",
    "k = np.arange(-Nk/2+1,Nk/2+1) # Recall arange leaves out last value\n",
    "# Outer Product for Fitting\n",
    "kx = np.outer(k,x)\n",
    "C = np.cos(np.outer(k,x))\n",
    "S = np.sin(np.outer(k,x))\n",
    "\n",
    "\n",
    "# Compute Fourier coefficients\n",
    "f = data[:-1]\n",
    "a = C.dot(f)/(N-1)\n",
    "b = S.dot(f)/(N-1)\n",
    "\n",
    "# Test Fit\n",
    "xk = np.outer(k,x) # Outer Product for Interpolating (Collocating)\n",
    "Fc = a.dot(C) # Cosine (even part) Collocation\n",
    "Fs = b.dot(S) # Sine (odd part) Collocation\n",
    "# Construct the Fourier series expansion\n",
    "F = Fc + Fs # DFT Collocation (Fit the Data)\n",
    "\n",
    "# Interpolate\n",
    "xi = np.linspace(-2.8,2.8)\n",
    "Ni = len(xi)\n",
    "kxi = np.outer(k,xi) # Outer Product for Interpolating\n",
    "Ci = np.cos(kxi)\n",
    "Si = np.sin(kxi)\n",
    "Fci = a.dot(Ci) # Cosine (even part) Interpolant\n",
    "Fsi = b.dot(Si) # Sine (odd part) Interpolant\n",
    "# Construct the Fourier series expansion\n",
    "Fi = Fci + Fsi # Trigonometric (DFT) Interpolation\n",
    "#print(len(Fi))\n",
    "\n",
    "#plt.plot(x,F,'ro') # Fit\n",
    "plt.plot(xi,Fi,'ro',x,f,'b.') # Interpolant\n",
    "plt.axis([-L,L,np.min(f)-0.25,np.max(f)+0.25])\n",
    "plt.xlabel('x')\n",
    "plt.ylabel('y')\n",
    "plt.title('Fourier Series Expansion (Interpolation)')\n",
    "plt.legend(['Fourier Series','Data']);"
   ]
  },
  {
   "cell_type": "markdown",
   "metadata": {},
   "source": [
    "-[back to top](#Sections)"
   ]
  },
  {
   "cell_type": "markdown",
   "metadata": {},
   "source": [
    "### Cosine Series Expansion for Even Data\n",
    "* $\\varphi_k(x) = \\cos(kx)$ on $[-\\pi,\\pi]$"
   ]
  },
  {
   "cell_type": "markdown",
   "metadata": {},
   "source": [
    "###### $$f_j = \\sum_k a_k\\cos(kx_j)\\qquad  b_k=0~\\forall k$$\n"
   ]
  },
  {
   "cell_type": "markdown",
   "metadata": {},
   "source": [
    "###### Data from an even function"
   ]
  },
  {
   "cell_type": "code",
   "execution_count": 5,
   "metadata": {},
   "outputs": [],
   "source": [
    "even_data = np.array([5.17231862e-05, 1.77385076e-04, 5.60359534e-04, 1.63055080e-03,\n",
    "       4.37038583e-03, 1.07900413e-02, 2.45382909e-02, 5.14023998e-02,\n",
    "       9.91837124e-02, 1.76284937e-01, 2.88607709e-01, 4.35229706e-01,\n",
    "       6.04570583e-01, 7.73558875e-01, 9.11711881e-01, 9.89782418e-01,\n",
    "       9.89782418e-01, 9.11711881e-01, 7.73558875e-01, 6.04570583e-01,\n",
    "       4.35229706e-01, 2.88607709e-01, 1.76284937e-01, 9.91837124e-02,\n",
    "       5.14023998e-02, 2.45382909e-02, 1.07900413e-02, 4.37038583e-03,\n",
    "       1.63055080e-03, 5.60359534e-04, 1.77385076e-04, 5.17231862e-05])"
   ]
  },
  {
   "cell_type": "code",
   "execution_count": 6,
   "metadata": {},
   "outputs": [
    {
     "data": {
      "image/png": "[encoded data removed]",
      "text/plain": [
       "<Figure size 432x288 with 1 Axes>"
      ]
     },
     "metadata": {
      "needs_background": "light"
     },
     "output_type": "display_data"
    }
   ],
   "source": [
    "# Set up the spatial grid, frequency grid, grid-matrix, and frequency-matrix\n",
    "L = np.pi\n",
    "N = len(even_data)\n",
    "Nk = 9\n",
    "# Spatial grid\n",
    "# Evaluations at first and last endpoint are added together due to periodicity\n",
    "# k = -Nk/2+1 ... Nk/2\n",
    "# Frequency grid\n",
    "\n",
    "# Compute the Fourier Cosine coefficients\n",
    "\n",
    "# Construct the Fourier Cosine series (call it Fc)\n",
    "\n",
    "# Test the fit on the EVEN data\n",
    "plt.plot(x,Fc,'ro',np.linspace(-L,L,N),even_data,'b.')\n",
    "plt.axis([-L,L,np.min(f)-0.25,np.max(f)+0.25])\n",
    "plt.xlabel('x')\n",
    "plt.ylabel('y')\n",
    "plt.title('Cosine Series Expansion (Collocation)');"
   ]
  },
  {
   "cell_type": "markdown",
   "metadata": {},
   "source": [
    "###### Interpolation"
   ]
  },
  {
   "cell_type": "code",
   "execution_count": 7,
   "metadata": {},
   "outputs": [
    {
     "data": {
      "image/png": "[encoded data removed]",
      "text/plain": [
       "<Figure size 432x288 with 1 Axes>"
      ]
     },
     "metadata": {
      "needs_background": "light"
     },
     "output_type": "display_data"
    }
   ],
   "source": [
    "xi = np.linspace(-2.75,2.75) # Interpolation grid\n",
    "Ni = len(xi)\n",
    "# Interpolate the data on the given grid (call it Fci)\n",
    "# Recall that interpolation reverses the outer product!\n",
    "\n",
    "plt.plot(xi,Fci,'r',x,f,'b.')\n",
    "plt.axis([-L,L,np.min(f)-0.25,np.max(f)+0.25])\n",
    "plt.xlabel('x')\n",
    "plt.ylabel('y')\n",
    "plt.title('Cosine Series Expansion (Interpolation)');"
   ]
  },
  {
   "cell_type": "markdown",
   "metadata": {},
   "source": [
    "-[back to top](#Sections)"
   ]
  },
  {
   "cell_type": "markdown",
   "metadata": {},
   "source": [
    "### Sine Series Expansion for Odd Data\n",
    "* $\\varphi_k(x) = \\sin(kx)$ on $[-\\pi,\\pi]$"
   ]
  },
  {
   "cell_type": "markdown",
   "metadata": {},
   "source": [
    "###### $$f_j=\\sum_j b_k\\sin(kx_j)\\qquad  a_k=0~\\forall k$$"
   ]
  },
  {
   "cell_type": "markdown",
   "metadata": {},
   "source": [
    "###### Data from an odd function"
   ]
  },
  {
   "cell_type": "code",
   "execution_count": 8,
   "metadata": {},
   "outputs": [],
   "source": [
    "odd_data = np.array([  0.        ,   3.62196109,   6.51952996,   8.7426647 ,\n",
    "        10.34132339,  11.36546411,  11.86504495,  11.89002399,\n",
    "        11.49035932,  10.71600902,   9.61693117,   8.24308386,\n",
    "         6.64442517,   4.87091319,   2.972506  ,   0.99916168,\n",
    "        -0.99916168,  -2.972506  ,  -4.87091319,  -6.64442517,\n",
    "        -8.24308386,  -9.61693117, -10.71600902, -11.49035932,\n",
    "       -11.89002399, -11.86504495, -11.36546411, -10.34132339,\n",
    "        -8.7426647 ,  -6.51952996,  -3.62196109,   0.        ])"
   ]
  },
  {
   "cell_type": "code",
   "execution_count": 9,
   "metadata": {},
   "outputs": [
    {
     "data": {
      "image/png": "[encoded data removed]",
      "text/plain": [
       "<Figure size 432x288 with 1 Axes>"
      ]
     },
     "metadata": {
      "needs_background": "light"
     },
     "output_type": "display_data"
    }
   ],
   "source": [
    "# Set up the spatial grid, frequency grid, grid-matrix, and frequency-matrix\n",
    "L = np.pi\n",
    "N = len(odd_data)\n",
    "Nk = 16# Spatial grid\n",
    "# Evaluations at first and last endpoint are added together due to periodicity\n",
    "# k = -Nk/2+1 ... Nk/2\n",
    "# Frequency grid\n",
    "\n",
    "# Compute the Fourier Sine coefficients\n",
    "\n",
    "# Construct the Fourier Sine series (call it Fs)\n",
    "\n",
    "# Test the fit on the ODD data\n",
    "\n",
    "plt.plot(x,Fs,'ro',x,f,'b.')\n",
    "plt.axis([-L,L,np.min(f)-0.25,np.max(f)+0.25])\n",
    "plt.xlabel('x')\n",
    "plt.ylabel('y')\n",
    "plt.title('Sine Series Expansion (Collocation)');"
   ]
  },
  {
   "cell_type": "code",
   "execution_count": 10,
   "metadata": {},
   "outputs": [
    {
     "data": {
      "image/png": "[encoded data removed]",
      "text/plain": [
       "<Figure size 432x288 with 1 Axes>"
      ]
     },
     "metadata": {
      "needs_background": "light"
     },
     "output_type": "display_data"
    }
   ],
   "source": [
    "xi = np.linspace(-2.75,2.75) # Interpolation grid\n",
    "Ni = len(xi)# Interpolate the data on the given grid (call it Fsi)\n",
    "# Recall that interpolation reverses the outer product!\n",
    "\n",
    "plt.plot(xi,Fsi,'r',x,f,'b.')\n",
    "plt.axis([-L,L,np.min(f)-0.25,np.max(f)+0.25])\n",
    "plt.xlabel('x')\n",
    "plt.ylabel('y')\n",
    "plt.title('Cosine Series Expansion (Interpolation)');"
   ]
  },
  {
   "cell_type": "markdown",
   "metadata": {},
   "source": [
    "-[back to top](#Sections)"
   ]
  },
  {
   "cell_type": "code",
   "execution_count": null,
   "metadata": {},
   "outputs": [],
   "source": []
  }
 ],
 "metadata": {
  "kernelspec": {
   "display_name": "Python 3",
   "language": "python",
   "name": "python3"
  },
  "language_info": {
   "codemirror_mode": {
    "name": "ipython",
    "version": 3
   },
   "file_extension": ".py",
   "mimetype": "text/x-python",
   "name": "python",
   "nbconvert_exporter": "python",
   "pygments_lexer": "ipython3",
   "version": "3.7.3"
  }
 },
 "nbformat": 4,
 "nbformat_minor": 4
}
