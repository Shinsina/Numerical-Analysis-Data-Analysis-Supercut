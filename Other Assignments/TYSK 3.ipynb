{
 "cells": [
  {
   "cell_type": "code",
   "execution_count": 2,
   "metadata": {},
   "outputs": [],
   "source": [
    "import numpy as np\n",
    "import matplotlib.pyplot as plt"
   ]
  },
  {
   "cell_type": "code",
   "execution_count": 23,
   "metadata": {},
   "outputs": [
    {
     "name": "stdout",
     "output_type": "stream",
     "text": [
      "-3\n",
      "3\n",
      "[-3.   -2.99 -2.98 -2.97 -2.96 -2.95 -2.94 -2.93 -2.92 -2.91 -2.9  -2.89\n",
      " -2.88 -2.87 -2.86 -2.85 -2.84 -2.83 -2.82 -2.81 -2.8  -2.79 -2.78 -2.77\n",
      " -2.76 -2.75 -2.74 -2.73 -2.72 -2.71 -2.7  -2.69 -2.68 -2.67 -2.66 -2.65\n",
      " -2.64 -2.63 -2.62 -2.61 -2.6  -2.59 -2.58 -2.57 -2.56 -2.55 -2.54 -2.53\n",
      " -2.52 -2.51 -2.5  -2.49 -2.48 -2.47 -2.46 -2.45 -2.44 -2.43 -2.42 -2.41\n",
      " -2.4  -2.39 -2.38 -2.37 -2.36 -2.35 -2.34 -2.33 -2.32 -2.31 -2.3  -2.29\n",
      " -2.28 -2.27 -2.26 -2.25 -2.24 -2.23 -2.22 -2.21 -2.2  -2.19 -2.18 -2.17\n",
      " -2.16 -2.15 -2.14 -2.13 -2.12 -2.11 -2.1  -2.09 -2.08 -2.07 -2.06 -2.05\n",
      " -2.04 -2.03 -2.02 -2.01 -2.   -1.99 -1.98 -1.97 -1.96 -1.95 -1.94 -1.93\n",
      " -1.92 -1.91 -1.9  -1.89 -1.88 -1.87 -1.86 -1.85 -1.84 -1.83 -1.82 -1.81\n",
      " -1.8  -1.79 -1.78 -1.77 -1.76 -1.75 -1.74 -1.73 -1.72 -1.71 -1.7  -1.69\n",
      " -1.68 -1.67 -1.66 -1.65 -1.64 -1.63 -1.62 -1.61 -1.6  -1.59 -1.58 -1.57\n",
      " -1.56 -1.55 -1.54 -1.53 -1.52 -1.51 -1.5  -1.49 -1.48 -1.47 -1.46 -1.45\n",
      " -1.44 -1.43 -1.42 -1.41 -1.4  -1.39 -1.38 -1.37 -1.36 -1.35 -1.34 -1.33\n",
      " -1.32 -1.31 -1.3  -1.29 -1.28 -1.27 -1.26 -1.25 -1.24 -1.23 -1.22 -1.21\n",
      " -1.2  -1.19 -1.18 -1.17 -1.16 -1.15 -1.14 -1.13 -1.12 -1.11 -1.1  -1.09\n",
      " -1.08 -1.07 -1.06 -1.05 -1.04 -1.03 -1.02 -1.01 -1.   -0.99 -0.98 -0.97\n",
      " -0.96 -0.95 -0.94 -0.93 -0.92 -0.91 -0.9  -0.89 -0.88 -0.87 -0.86 -0.85\n",
      " -0.84 -0.83 -0.82 -0.81 -0.8  -0.79 -0.78 -0.77 -0.76 -0.75 -0.74 -0.73\n",
      " -0.72 -0.71 -0.7  -0.69 -0.68 -0.67 -0.66 -0.65 -0.64 -0.63 -0.62 -0.61\n",
      " -0.6  -0.59 -0.58 -0.57 -0.56 -0.55 -0.54 -0.53 -0.52 -0.51 -0.5  -0.49\n",
      " -0.48 -0.47 -0.46 -0.45 -0.44 -0.43 -0.42 -0.41 -0.4  -0.39 -0.38 -0.37\n",
      " -0.36 -0.35 -0.34 -0.33 -0.32 -0.31 -0.3  -0.29 -0.28 -0.27 -0.26 -0.25\n",
      " -0.24 -0.23 -0.22 -0.21 -0.2  -0.19 -0.18 -0.17 -0.16 -0.15 -0.14 -0.13\n",
      " -0.12 -0.11 -0.1  -0.09 -0.08 -0.07 -0.06 -0.05 -0.04 -0.03 -0.02 -0.01\n",
      "  0.    0.01  0.02  0.03  0.04  0.05  0.06  0.07  0.08  0.09  0.1   0.11\n",
      "  0.12  0.13  0.14  0.15  0.16  0.17  0.18  0.19  0.2   0.21  0.22  0.23\n",
      "  0.24  0.25  0.26  0.27  0.28  0.29  0.3   0.31  0.32  0.33  0.34  0.35\n",
      "  0.36  0.37  0.38  0.39  0.4   0.41  0.42  0.43  0.44  0.45  0.46  0.47\n",
      "  0.48  0.49  0.5   0.51  0.52  0.53  0.54  0.55  0.56  0.57  0.58  0.59\n",
      "  0.6   0.61  0.62  0.63  0.64  0.65  0.66  0.67  0.68  0.69  0.7   0.71\n",
      "  0.72  0.73  0.74  0.75  0.76  0.77  0.78  0.79  0.8   0.81  0.82  0.83\n",
      "  0.84  0.85  0.86  0.87  0.88  0.89  0.9   0.91  0.92  0.93  0.94  0.95\n",
      "  0.96  0.97  0.98  0.99  1.    1.01  1.02  1.03  1.04  1.05  1.06  1.07\n",
      "  1.08  1.09  1.1   1.11  1.12  1.13  1.14  1.15  1.16  1.17  1.18  1.19\n",
      "  1.2   1.21  1.22  1.23  1.24  1.25  1.26  1.27  1.28  1.29  1.3   1.31\n",
      "  1.32  1.33  1.34  1.35  1.36  1.37  1.38  1.39  1.4   1.41  1.42  1.43\n",
      "  1.44  1.45  1.46  1.47  1.48  1.49  1.5   1.51  1.52  1.53  1.54  1.55\n",
      "  1.56  1.57  1.58  1.59  1.6   1.61  1.62  1.63  1.64  1.65  1.66  1.67\n",
      "  1.68  1.69  1.7   1.71  1.72  1.73  1.74  1.75  1.76  1.77  1.78  1.79\n",
      "  1.8   1.81  1.82  1.83  1.84  1.85  1.86  1.87  1.88  1.89  1.9   1.91\n",
      "  1.92  1.93  1.94  1.95  1.96  1.97  1.98  1.99  2.    2.01  2.02  2.03\n",
      "  2.04  2.05  2.06  2.07  2.08  2.09  2.1   2.11  2.12  2.13  2.14  2.15\n",
      "  2.16  2.17  2.18  2.19  2.2   2.21  2.22  2.23  2.24  2.25  2.26  2.27\n",
      "  2.28  2.29  2.3   2.31  2.32  2.33  2.34  2.35  2.36  2.37  2.38  2.39\n",
      "  2.4   2.41  2.42  2.43  2.44  2.45  2.46  2.47  2.48  2.49  2.5   2.51\n",
      "  2.52  2.53  2.54  2.55  2.56  2.57  2.58  2.59  2.6   2.61  2.62  2.63\n",
      "  2.64  2.65  2.66  2.67  2.68  2.69  2.7   2.71  2.72  2.73  2.74  2.75\n",
      "  2.76  2.77  2.78  2.79  2.8   2.81  2.82  2.83  2.84  2.85  2.86  2.87\n",
      "  2.88  2.89  2.9   2.91  2.92  2.93  2.94  2.95  2.96  2.97  2.98  2.99\n",
      "  3.  ]\n",
      "0.01\n"
     ]
    }
   ],
   "source": [
    "#Number 1\n",
    "a = int(-np.pi)\n",
    "b= int(np.pi)\n",
    "N = 601\n",
    "print (a)\n",
    "print (b)\n",
    "x=np.linspace(a,b,N)\n",
    "print(x)\n",
    "h = (b-a)/(N-1)\n",
    "print(h)"
   ]
  },
  {
   "cell_type": "code",
   "execution_count": 9,
   "metadata": {},
   "outputs": [
    {
     "name": "stdout",
     "output_type": "stream",
     "text": [
      "0.25\n",
      "0.010869565217391304\n",
      "[-1.875 -1.625 -1.375 -1.125 -0.875 -0.625 -0.375 -0.125  0.125  0.375\n",
      "  0.625  0.875  1.125  1.375  1.625  1.875  2.125  2.375  2.625  2.875\n",
      "  3.125  3.375  3.625  3.875]\n"
     ]
    }
   ],
   "source": [
    "#Number 2\n",
    "a,b,N = -2,4,25\n",
    "h = (b-a)/(N-1)\n",
    "print(h)\n",
    "x =np.linspace(-2,4,25)\n",
    "c= (x[1:]+x[:-1])/2 #Computer midpoints\n",
    "hnew = (c[1]-c[0])/(c.size-1)\n",
    "print(hnew)\n",
    "print(c)"
   ]
  },
  {
   "cell_type": "code",
   "execution_count": 37,
   "metadata": {},
   "outputs": [
    {
     "name": "stdout",
     "output_type": "stream",
     "text": [
      "[1. 4. 2. 4. 2. 4. 2. 4. 2. 4. 2. 4. 2. 4. 2. 4. 2. 4. 2. 4. 1.]\n"
     ]
    }
   ],
   "source": [
    "#Number 3\n",
    "N = 21\n",
    "w = np.ones(N)\n",
    "w[1:-1:2] = 4\n",
    "w[2:-1:2] = 2\n",
    "print(w)"
   ]
  },
  {
   "cell_type": "code",
   "execution_count": 19,
   "metadata": {},
   "outputs": [
    {
     "name": "stdout",
     "output_type": "stream",
     "text": [
      "1.313\n",
      "1.9845000000000006\n",
      "1.313\n",
      "1.9845000000000006\n"
     ]
    }
   ],
   "source": [
    "#Number 4\n",
    "a = 1\n",
    "b = 1.2\n",
    "c = 1.4\n",
    "fa = 1\n",
    "fb = 1.2626\n",
    "fc = 1.6595\n",
    "\n",
    "fd1 = (fb - fa)/(b - a)\n",
    "fd2 = (fc - fb)/(c - b)\n",
    "bd1 = (fa - fb)/(a - b)\n",
    "bd2 = (fb - fc)/(b - c)\n",
    "\n",
    "print(fd1)\n",
    "print(fd2)\n",
    "print(bd1)\n",
    "print(bd2)"
   ]
  },
  {
   "cell_type": "code",
   "execution_count": 20,
   "metadata": {},
   "outputs": [
    {
     "data": {
      "text/plain": [
       "[<matplotlib.lines.Line2D at 0x196f67a1080>]"
      ]
     },
     "execution_count": 20,
     "metadata": {},
     "output_type": "execute_result"
    },
    {
     "data": {
      "image/png": "[encoded data removed]",
      "text/plain": [
       "<Figure size 432x288 with 1 Axes>"
      ]
     },
     "metadata": {
      "needs_background": "light"
     },
     "output_type": "display_data"
    }
   ],
   "source": [
    "#Number 5\n",
    "def f(x):\n",
    "    y = [] \n",
    "    for xx in x:\n",
    "        if xx>=0:\n",
    "            y+= [1]\n",
    "        else:\n",
    "            y+= [-1]\n",
    "    return np.array(y)\n",
    "a,b,N = -5,5,33\n",
    "x = np.linspace (a,b,N)\n",
    "plt.plot(x,f(x),'go')"
   ]
  },
  {
   "cell_type": "code",
   "execution_count": null,
   "metadata": {},
   "outputs": [],
   "source": []
  }
 ],
 "metadata": {
  "kernelspec": {
   "display_name": "Python 3",
   "language": "python",
   "name": "python3"
  },
  "language_info": {
   "codemirror_mode": {
    "name": "ipython",
    "version": 3
   },
   "file_extension": ".py",
   "mimetype": "text/x-python",
   "name": "python",
   "nbconvert_exporter": "python",
   "pygments_lexer": "ipython3",
   "version": "3.7.3"
  }
 },
 "nbformat": 4,
 "nbformat_minor": 2
}
