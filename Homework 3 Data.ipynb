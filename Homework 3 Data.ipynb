{
 "cells": [
  {
   "cell_type": "markdown",
   "metadata": {},
   "source": [
    "###### 3.) Differentiate the given data using the forward difference formula. Use slicing instead of a loop."
   ]
  },
  {
   "cell_type": "code",
   "execution_count": 2,
   "metadata": {},
   "outputs": [],
   "source": [
    "import numpy as np\n",
    "import matplotlib.pyplot as plt"
   ]
  },
  {
   "cell_type": "code",
   "execution_count": 3,
   "metadata": {},
   "outputs": [],
   "source": [
    "# x-grid\n",
    "x = np.linspace(-1,2,50)\n",
    "# y-grid function data to be differentiated\n",
    "y = np.array([0.36787944, 0.3695833 , 0.37472639, 0.3834033 , 0.39577209,\n",
    "       0.41205464, 0.4325367 , 0.45756722, 0.48755638, 0.52297146,\n",
    "       0.56432968, 0.61218696, 0.66712133, 0.7297099 , 0.80049825,\n",
    "       0.87996147, 0.96845663, 1.06616726, 1.17304144, 1.28872658,\n",
    "       1.41250547, 1.54323944, 1.67932608, 1.81867921, 1.95873898,\n",
    "       2.09651826, 2.22868923, 2.35171009, 2.4619873 , 2.55606361,\n",
    "       2.6308181 , 2.68366067, 2.71270256, 2.71688558, 2.69605613,\n",
    "       2.6509761 , 2.58326925, 2.49530913, 2.39006056, 2.27089098,\n",
    "       2.14137032, 2.00507717, 1.86542667, 1.72553112, 1.58809993,\n",
    "       1.45537996, 1.32913398, 1.21065148, 1.10078441, 1.        ])"
   ]
  },
  {
   "cell_type": "code",
   "execution_count": 5,
   "metadata": {},
   "outputs": [
    {
     "data": {
      "text/plain": [
       "[<matplotlib.lines.Line2D at 0x12d13a1ccc0>]"
      ]
     },
     "execution_count": 5,
     "metadata": {},
     "output_type": "execute_result"
    },
    {
     "data": {
      "image/png": "[encoded data removed]",
      "text/plain": [
       "<Figure size 432x288 with 1 Axes>"
      ]
     },
     "metadata": {
      "needs_background": "light"
     },
     "output_type": "display_data"
    }
   ],
   "source": [
    "a,b,N= -1,2,50\n",
    "h=(b-a)/(N-1)\n",
    "x=np.linspace(a,b,N)\n",
    "yi=y[:-1]\n",
    "yo=y[1:]\n",
    "eye=(yo-yi)/h\n",
    "W = (((y+h)-(y)))/h\n",
    "plt.plot(y, 'bo')\n",
    "plt.plot( W, 'go')\n",
    "plt.plot(eye, 'yo')\n",
    "#Graph shape is how to tell that this is \"essentially correct\""
   ]
  },
  {
   "cell_type": "code",
   "execution_count": null,
   "metadata": {},
   "outputs": [],
   "source": []
  }
 ],
 "metadata": {
  "kernelspec": {
   "display_name": "Python 3",
   "language": "python",
   "name": "python3"
  },
  "language_info": {
   "codemirror_mode": {
    "name": "ipython",
    "version": 3
   },
   "file_extension": ".py",
   "mimetype": "text/x-python",
   "name": "python",
   "nbconvert_exporter": "python",
   "pygments_lexer": "ipython3",
   "version": "3.7.3"
  }
 },
 "nbformat": 4,
 "nbformat_minor": 2
}
