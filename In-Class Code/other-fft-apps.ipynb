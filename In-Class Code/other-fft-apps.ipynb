{
 "cells": [
  {
   "cell_type": "markdown",
   "metadata": {},
   "source": [
    "# Other Cool Applications with the FFT"
   ]
  },
  {
   "cell_type": "code",
   "execution_count": 1,
   "metadata": {
    "jupyter": {
     "outputs_hidden": true
    }
   },
   "outputs": [],
   "source": [
    "import numpy as np\n",
    "import matplotlib.pyplot as plt\n",
    "from scipy.linalg import eig_banded\n",
    "from scipy.special import erf\n",
    "from scipy.fftpack import ifft, fft, fftshift, ifftshift\n",
    "%matplotlib inline"
   ]
  },
  {
   "cell_type": "markdown",
   "metadata": {},
   "source": [
    "### Clenshaw-Curtis Quadrature"
   ]
  },
  {
   "cell_type": "code",
   "execution_count": 2,
   "metadata": {},
   "outputs": [
    {
     "name": "stdout",
     "output_type": "stream",
     "text": [
      "Integral: 2.2831945209105777\n"
     ]
    }
   ],
   "source": [
    "n1 = 33\n",
    "n = n1 - 1\n",
    "C = np.zeros((n1,2))\n",
    "k = 2*(1+np.arange(np.floor(n/2)))\n",
    "# Compute weights --> integral of Tn(x)\n",
    "C[::2,0] = 2/np.hstack((1, 1-k*k))\n",
    "C[1,1] = -n\n",
    "V = np.vstack((C,np.flipud(C[1:n,:])))\n",
    "# Real part of inverse FFT ~ Cosine transform\n",
    "F = np.real(ifft(V, n=None, axis=0))\n",
    "x = F[:n1,1]\n",
    "w = np.hstack((F[0,0],2*F[1:n,0],F[n,0]))\n",
    "\n",
    "y = np.exp(-np.sin(x))\n",
    "I = np.dot(w,y)\n",
    "print(\"Integral: {}\".format(I))"
   ]
  },
  {
   "cell_type": "markdown",
   "metadata": {},
   "source": [
    "### Fast Polynomial Multiplication"
   ]
  },
  {
   "cell_type": "code",
   "execution_count": 3,
   "metadata": {},
   "outputs": [
    {
     "data": {
      "text/plain": [
       "array([-15,  17,  13, -45,  49,  57, -21])"
      ]
     },
     "execution_count": 3,
     "metadata": {},
     "output_type": "execute_result"
    }
   ],
   "source": [
    "a = np.array([3,-1,2,7])\n",
    "b = np.array([-5,4,9,-3])\n",
    "np.convolve(a,b)"
   ]
  },
  {
   "cell_type": "code",
   "execution_count": 4,
   "metadata": {},
   "outputs": [
    {
     "data": {
      "text/plain": [
       "array([-15.,  17.,  13., -45.,  49.,  57., -21.])"
      ]
     },
     "execution_count": 4,
     "metadata": {},
     "output_type": "execute_result"
    }
   ],
   "source": [
    "apad = np.append(a,np.zeros(len(a)-1))\n",
    "bpad = np.append(b,np.zeros(len(b)-1))\n",
    "np.real(ifft((fft(apad)*fft(bpad))))"
   ]
  },
  {
   "cell_type": "code",
   "execution_count": 5,
   "metadata": {},
   "outputs": [
    {
     "name": "stdout",
     "output_type": "stream",
     "text": [
      "659 µs ± 123 µs per loop (mean ± std. dev. of 7 runs, 100 loops each)\n"
     ]
    }
   ],
   "source": [
    "%%timeit -n 100\n",
    "a = np.random.rand(5000)\n",
    "apad = np.append(a,np.zeros(len(a)))\n",
    "b = np.random.rand(5000)\n",
    "bpad = np.append(b,np.zeros(len(b)))\n",
    "np.real(ifft((fft(apad)*fft(bpad))))"
   ]
  },
  {
   "cell_type": "code",
   "execution_count": 6,
   "metadata": {},
   "outputs": [
    {
     "name": "stdout",
     "output_type": "stream",
     "text": [
      "9.43 ms ± 1 ms per loop (mean ± std. dev. of 7 runs, 100 loops each)\n"
     ]
    }
   ],
   "source": [
    "%%timeit -n 100\n",
    "a = np.random.rand(5000)\n",
    "b = np.random.rand(5000)\n",
    "np.convolve(a,b)"
   ]
  },
  {
   "cell_type": "code",
   "execution_count": 7,
   "metadata": {},
   "outputs": [
    {
     "data": {
      "text/plain": [
       "array([1., 1., 2.])"
      ]
     },
     "execution_count": 7,
     "metadata": {},
     "output_type": "execute_result"
    }
   ],
   "source": [
    "A = np.array([[2,-2,1],[1,-1,2],[1,1,1]])\n",
    "b = np.array([2,4,4])\n",
    "np.linalg.solve(A,b)"
   ]
  },
  {
   "cell_type": "code",
   "execution_count": null,
   "metadata": {
    "jupyter": {
     "outputs_hidden": true
    }
   },
   "outputs": [],
   "source": []
  },
  {
   "cell_type": "code",
   "execution_count": null,
   "metadata": {},
   "outputs": [],
   "source": []
  }
 ],
 "metadata": {
  "kernelspec": {
   "display_name": "Python 3",
   "language": "python",
   "name": "python3"
  },
  "language_info": {
   "codemirror_mode": {
    "name": "ipython",
    "version": 3
   },
   "file_extension": ".py",
   "mimetype": "text/x-python",
   "name": "python",
   "nbconvert_exporter": "python",
   "pygments_lexer": "ipython3",
   "version": "3.7.3"
  }
 },
 "nbformat": 4,
 "nbformat_minor": 4
}
