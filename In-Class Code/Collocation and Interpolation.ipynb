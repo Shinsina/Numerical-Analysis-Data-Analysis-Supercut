{
 "cells": [
  {
   "cell_type": "markdown",
   "metadata": {},
   "source": [
    "# Collocation and Interpolation"
   ]
  },
  {
   "cell_type": "code",
   "execution_count": 1,
   "metadata": {},
   "outputs": [],
   "source": [
    "import numpy as np\n",
    "import matplotlib.pyplot as plt"
   ]
  },
  {
   "cell_type": "markdown",
   "metadata": {},
   "source": [
    "### The Collocation Problem:\n",
    "* Determine $c_k$ such that $$\\sum_{k=0}^n c_k\\varphi_k(x) = f(x)$$\n",
    "* The independent variable will get discretized into a grid, $\\{x_j\\}_{j=0}^n$, which converts the problem to a discrete form $$\\sum_{k=0}^n c_k\\varphi_k(x_j) = f(x_j)$$ for each $j = 0,1,\\ldots,n$\n",
    "* Which we will typically write as $$\\sum_{k=0}^n c_k\\varphi_{jk} = f_j$$"
   ]
  },
  {
   "cell_type": "markdown",
   "metadata": {},
   "source": [
    "### Vectorization for Solving the Collocation Problem"
   ]
  },
  {
   "cell_type": "markdown",
   "metadata": {},
   "source": [
    "###### The sum $$\\sum_{k=0}^n c_k\\varphi_{jk} = f_j$$ can be written in terms of vector-matrix multiplication:\n",
    "\n",
    "$$\\begin{pmatrix}\n",
    "\\varphi_0(x_0) & \\varphi_1(x_0) &\\ldots & \\varphi_n(x_0)\\\\\n",
    "\\varphi_0(x_1) & \\varphi_1(x_1) &\\ldots & \\varphi_n(x_1)\\\\\n",
    "\\varphi_0(x_2) & \\varphi_1(x_2) &\\ldots & \\varphi_n(x_2)\\\\\n",
    "\\vdots & \\vdots & \\ddots & \\vdots \\\\\n",
    "\\varphi_0(x_n) & \\varphi_1(x_n) &\\ldots & \\varphi_n(x_n)\\\\\n",
    "\\end{pmatrix}\n",
    "\\begin{pmatrix}\n",
    "c_0\\\\\n",
    "c_1\\\\\n",
    "c_2\\\\\n",
    "\\vdots\\\\\n",
    "c_n\n",
    "\\end{pmatrix}\n",
    "=\n",
    "\\begin{pmatrix}\n",
    "f_0\\\\\n",
    "f_1\\\\\n",
    "f_2\\\\\n",
    "\\vdots\\\\\n",
    "f_n\n",
    "\\end{pmatrix}$$"
   ]
  },
  {
   "cell_type": "markdown",
   "metadata": {},
   "source": [
    "###### A short interlude on the outer product and broadcasting"
   ]
  },
  {
   "cell_type": "markdown",
   "metadata": {},
   "source": [
    "###### The outer product of two vectors is defined $$a\\otimes b=ab^T$$\n",
    "Recall that we always assume that vectors are column vectors."
   ]
  },
  {
   "cell_type": "code",
   "execution_count": 2,
   "metadata": {},
   "outputs": [
    {
     "name": "stdout",
     "output_type": "stream",
     "text": [
      "a = [-3 -2 -1  0  1  2  3]\n",
      "b = [[1. 1. 1. 1. 1.]]\n",
      "out(a,b) = \n",
      "[[-3. -3. -3. -3. -3.]\n",
      " [-2. -2. -2. -2. -2.]\n",
      " [-1. -1. -1. -1. -1.]\n",
      " [ 0.  0.  0.  0.  0.]\n",
      " [ 1.  1.  1.  1.  1.]\n",
      " [ 2.  2.  2.  2.  2.]\n",
      " [ 3.  3.  3.  3.  3.]]\n"
     ]
    }
   ],
   "source": [
    "a = np.arange(-3,4)\n",
    "b = np.ones((1,5))\n",
    "print(f'a = {a}')\n",
    "print(f'b = {b}')\n",
    "oab = np.outer(a,b)\n",
    "print(f'out(a,b) = \\n{oab}')"
   ]
  },
  {
   "cell_type": "code",
   "execution_count": 3,
   "metadata": {},
   "outputs": [
    {
     "name": "stdout",
     "output_type": "stream",
     "text": [
      "x = [ 0.  1.  2.  3.  4.  5.  6.  7.  8.  9. 10.]\n",
      "u = [[1. 1. 1. 1. 1.]]\n",
      "out(u,x) = \n",
      "[[ 0.  1.  2.  3.  4.  5.  6.  7.  8.  9. 10.]\n",
      " [ 0.  1.  2.  3.  4.  5.  6.  7.  8.  9. 10.]\n",
      " [ 0.  1.  2.  3.  4.  5.  6.  7.  8.  9. 10.]\n",
      " [ 0.  1.  2.  3.  4.  5.  6.  7.  8.  9. 10.]\n",
      " [ 0.  1.  2.  3.  4.  5.  6.  7.  8.  9. 10.]]\n",
      "out(x,u) = \n",
      "[[ 0.  0.  0.  0.  0.]\n",
      " [ 1.  1.  1.  1.  1.]\n",
      " [ 2.  2.  2.  2.  2.]\n",
      " [ 3.  3.  3.  3.  3.]\n",
      " [ 4.  4.  4.  4.  4.]\n",
      " [ 5.  5.  5.  5.  5.]\n",
      " [ 6.  6.  6.  6.  6.]\n",
      " [ 7.  7.  7.  7.  7.]\n",
      " [ 8.  8.  8.  8.  8.]\n",
      " [ 9.  9.  9.  9.  9.]\n",
      " [10. 10. 10. 10. 10.]]\n"
     ]
    }
   ],
   "source": [
    "x = np.linspace(0,10,11)\n",
    "u = np.ones((1,5))\n",
    "print(f'x = {x}')\n",
    "print(f'u = {u}')\n",
    "X = np.outer(u,x)\n",
    "print(f'out(u,x) = \\n{X}')\n",
    "X = np.outer(x,u)\n",
    "print(f'out(x,u) = \\n{X}')\n",
    "#X**np.arange(5)"
   ]
  },
  {
   "cell_type": "markdown",
   "metadata": {},
   "source": [
    "###### Example (Vandermonde Matrix $[x_j^k]_{j=0,k=0}^{n,m}$ for a 5th degree polynomial:\n",
    "$$p(x_j) = a_0x_j^0 + a_1x_j^1 + a_2x_j^2 + a_3x_j^3 + a_4x_j^4 + a_5x_j^5$$"
   ]
  },
  {
   "cell_type": "code",
   "execution_count": 4,
   "metadata": {},
   "outputs": [
    {
     "name": "stdout",
     "output_type": "stream",
     "text": [
      "[[   1.    2.    4.    8.   16.   32.]\n",
      " [   1.    3.    9.   27.   81.  243.]\n",
      " [   1.    4.   16.   64.  256. 1024.]\n",
      " [   1.    5.   25.  125.  625. 3125.]\n",
      " [   1.    6.   36.  216. 1296. 7776.]]\n"
     ]
    }
   ],
   "source": [
    "x = np.linspace(2,6,5)\n",
    "u = np.ones((1,6))\n",
    "X = np.outer(x,u)\n",
    "k = np.arange(6)\n",
    "np.set_printoptions(suppress=True)\n",
    "print(f'{X**k}')"
   ]
  },
  {
   "cell_type": "markdown",
   "metadata": {},
   "source": [
    "###### Of course NumPy has a function for just such an occasion!"
   ]
  },
  {
   "cell_type": "code",
   "execution_count": 5,
   "metadata": {},
   "outputs": [
    {
     "data": {
      "text/plain": [
       "array([[  16.,    8.,    4.,    2.,    1.],\n",
       "       [  81.,   27.,    9.,    3.,    1.],\n",
       "       [ 256.,   64.,   16.,    4.,    1.],\n",
       "       [ 625.,  125.,   25.,    5.,    1.],\n",
       "       [1296.,  216.,   36.,    6.,    1.]])"
      ]
     },
     "execution_count": 5,
     "metadata": {},
     "output_type": "execute_result"
    }
   ],
   "source": [
    "np.vander(x)"
   ]
  },
  {
   "cell_type": "code",
   "execution_count": 6,
   "metadata": {},
   "outputs": [
    {
     "data": {
      "text/plain": [
       "array([[   1.,    2.,    4.,    8.,   16.],\n",
       "       [   1.,    3.,    9.,   27.,   81.],\n",
       "       [   1.,    4.,   16.,   64.,  256.],\n",
       "       [   1.,    5.,   25.,  125.,  625.],\n",
       "       [   1.,    6.,   36.,  216., 1296.]])"
      ]
     },
     "execution_count": 6,
     "metadata": {},
     "output_type": "execute_result"
    }
   ],
   "source": [
    "np.vander(x,increasing=True)"
   ]
  },
  {
   "cell_type": "code",
   "execution_count": 7,
   "metadata": {},
   "outputs": [
    {
     "data": {
      "text/plain": [
       "array([[   1.,    2.,    4.,    8.,   16.,   32.],\n",
       "       [   1.,    3.,    9.,   27.,   81.,  243.],\n",
       "       [   1.,    4.,   16.,   64.,  256., 1024.],\n",
       "       [   1.,    5.,   25.,  125.,  625., 3125.],\n",
       "       [   1.,    6.,   36.,  216., 1296., 7776.]])"
      ]
     },
     "execution_count": 7,
     "metadata": {},
     "output_type": "execute_result"
    }
   ],
   "source": [
    "np.vander(x,N=6,increasing=True)"
   ]
  },
  {
   "cell_type": "markdown",
   "metadata": {},
   "source": [
    "### Polynomial Interpolation: $\\varphi_k(x) = x^k$ on $[-2,2]$"
   ]
  },
  {
   "cell_type": "markdown",
   "metadata": {},
   "source": [
    "###### The sum $$\\sum_{k=0}^n c_k\\varphi_{jk} = f_j\\implies \\sum_{k=0}^n c_kx_j^k = f_j$$ can be written in terms of vector-matrix multiplication:\n",
    "\n",
    "$$\\begin{pmatrix}\n",
    "1 & x_0 & x_0^2 & \\ldots & x_0^n\\\\\n",
    "1 & x_1 & x_1^2 & \\ldots & x_1^n\\\\\n",
    "1 & x_2 & x_2^2 & \\ldots & x_2^n\\\\\n",
    "\\vdots & \\vdots & \\vdots & \\ddots & \\vdots \\\\\n",
    "1 & x_n & x_n^2 & \\ldots & x_n^n\\\\\n",
    "\\end{pmatrix}\n",
    "\\begin{pmatrix}\n",
    "c_0\\\\\n",
    "c_1\\\\\n",
    "c_2\\\\\n",
    "\\vdots\\\\\n",
    "c_n\n",
    "\\end{pmatrix}\n",
    "=\n",
    "\\begin{pmatrix}\n",
    "f_0\\\\\n",
    "f_1\\\\\n",
    "f_2\\\\\n",
    "\\vdots\\\\\n",
    "f_n\n",
    "\\end{pmatrix}$$"
   ]
  },
  {
   "cell_type": "code",
   "execution_count": 8,
   "metadata": {},
   "outputs": [
    {
     "data": {
      "image/png": "[encoded data removed]",
      "text/plain": [
       "<Figure size 432x288 with 1 Axes>"
      ]
     },
     "metadata": {
      "needs_background": "light"
     },
     "output_type": "display_data"
    }
   ],
   "source": [
    "# Set up the spatial grid, frequency grid, grid-matrix, and frequency-matrix\n",
    "x = np.linspace(-2,2,15) #<-- Play with the number of nodes, start with 3, 5, ...\n",
    "# Test Function to be Replicated\n",
    "f = np.exp(-x**2)\n",
    "# Basis Function (degree matches number of grid points in this case)\n",
    "nodes = 15\n",
    "phi = np.vander(x,N=nodes,increasing=True)\n",
    "# **************************************************************************************************\n",
    "# Determine the basis function coefficients by solving the collocation problem\n",
    "# **************************************************************************************************\n",
    "# The coefficients determine the interpolant, they get recycled for remaining interpolation problems\n",
    "# **************************************************************************************************\n",
    "c = np.linalg.solve(phi,f)\n",
    "plt.plot(x,np.dot(phi,c),'ro',x,f,'b.')\n",
    "plt.xlabel('x')\n",
    "plt.ylabel('y')\n",
    "plt.title('Collocation');"
   ]
  },
  {
   "cell_type": "markdown",
   "metadata": {},
   "source": [
    "### Interpolation"
   ]
  },
  {
   "cell_type": "code",
   "execution_count": 9,
   "metadata": {},
   "outputs": [
    {
     "name": "stdout",
     "output_type": "stream",
     "text": [
      "The shape of phi is (9, 15)\n"
     ]
    },
    {
     "data": {
      "image/png": "[encoded data removed]",
      "text/plain": [
       "<Figure size 432x288 with 1 Axes>"
      ]
     },
     "metadata": {
      "needs_background": "light"
     },
     "output_type": "display_data"
    }
   ],
   "source": [
    "# Construct interpolation grid\n",
    "xi = np.linspace(-1.9,1.9,9)\n",
    "# Interpolation grid has 9 points but there are as many basis functions as there are degrees\n",
    "# Construct basis functions with evaluation grid, that is, evaluate the basis functions\n",
    "phi = np.vander(xi,N=nodes,increasing=True) # N is the degree (number of nodes) from the collocation problem\n",
    "print('The shape of phi is {}'.format(phi.shape))\n",
    "yi = np.dot(phi,c) #<-- Notice recycled coefficients c_k's\n",
    "plt.plot(x,f,'bo',xi,yi,'r.')\n",
    "plt.xlabel('x')\n",
    "plt.ylabel('y')\n",
    "plt.title('Interpolation');"
   ]
  },
  {
   "cell_type": "code",
   "execution_count": 10,
   "metadata": {},
   "outputs": [
    {
     "name": "stdout",
     "output_type": "stream",
     "text": [
      "The shape of phi is (1, 15)\n",
      "The interpolated point is ([0.9856],0.38)\n"
     ]
    },
    {
     "data": {
      "image/png": "[encoded data removed]",
      "text/plain": [
       "<Figure size 432x288 with 1 Axes>"
      ]
     },
     "metadata": {
      "needs_background": "light"
     },
     "output_type": "display_data"
    }
   ],
   "source": [
    "# Construct interpolation grid\n",
    "xi = [0.9856] # vander only accepts arrays\n",
    "# Interpolation grid has 1 point but there are as many basis functions as there are degrees\n",
    "# Construct basis functions with evaluation grid, that is, evaluate the basis functions\n",
    "phi = np.vander(xi,N=nodes,increasing=True)\n",
    "print('The shape of phi is {}'.format(phi.shape))\n",
    "yi = phi.dot(c) #<-- Notice recycled coefficients c_k's\n",
    "plt.plot(x,f,'bo',xi,yi,'r.')\n",
    "plt.xlabel('x')\n",
    "plt.ylabel('y')\n",
    "plt.title('Interpolation');\n",
    "print('The interpolated point is ({},{:1.2f})'.format(xi,yi[0]))"
   ]
  },
  {
   "cell_type": "markdown",
   "metadata": {},
   "source": [
    "-[back to top](#Collocation-and-Interpolation)"
   ]
  },
  {
   "cell_type": "markdown",
   "metadata": {},
   "source": [
    "### Exercises"
   ]
  },
  {
   "cell_type": "markdown",
   "metadata": {},
   "source": [
    "###### Use collocation with monomial basis functions and the given data $y$ on the interval $[-1,2.2]$ to interpolate $\\hat{y}$ on $[-0.8,2.05]$ with 47 interpolation values. You may assume evenly-spaced nodes. It is up to you to figure out the information needed to complete this problem."
   ]
  },
  {
   "cell_type": "code",
   "execution_count": 27,
   "metadata": {},
   "outputs": [],
   "source": [
    "y = np.array([-0.57079633, -0.99815141, -1.17451768, -1.19526364, -1.07448061,\n",
    "       -0.73865211, -0.08574222,  0.74636778,  1.1470214 ,  0.69911435,\n",
    "       -0.13568609, -0.76823448, -1.08716558, -1.19780524, -1.16868353,\n",
    "       -0.98008756, -0.53315363,  0.22920113])"
   ]
  },
  {
   "cell_type": "code",
   "execution_count": 37,
   "metadata": {},
   "outputs": [
    {
     "data": {
      "text/plain": [
       "Text(0, 0.5, 'y')"
      ]
     },
     "execution_count": 37,
     "metadata": {},
     "output_type": "execute_result"
    },
    {
     "data": {
      "image/png": "[encoded data removed]",
      "text/plain": [
       "<Figure size 432x288 with 1 Axes>"
      ]
     },
     "metadata": {
      "needs_background": "light"
     },
     "output_type": "display_data"
    }
   ],
   "source": [
    "# insert code here\n",
    "# plot the interpolating polynomial against the data\n",
    "x = np.linspace(-1,2.2,len(y)) #<-- Play with the number of nodes, start with 3, 5, ...\n",
    "xi = np.linspace(-0.8,2.05,47)\n",
    "phi = np.vander(x,increasing=True)\n",
    "c = np.linalg.solve(phi,y)\n",
    "Xi = np.vander(xi,N=len(y),increasing = True) #Length(Interpolation Values) by Length(nodes)\n",
    "yi = np.dot(Xi,c)\n",
    "\n",
    "plt.plot(x,y,'b.',xi,yi,'r.')\n",
    "plt.xlabel('x')\n",
    "plt.ylabel('y')"
   ]
  },
  {
   "cell_type": "markdown",
   "metadata": {},
   "source": [
    "###### See if the Lagrange interpolating polynomial yields a better (qualitatively speaking) result."
   ]
  },
  {
   "cell_type": "code",
   "execution_count": 15,
   "metadata": {},
   "outputs": [],
   "source": [
    "# insert code here\n",
    "# plot the interpolating polynomial against the data\n",
    "from scipy.interpolate import barycentric_interpolate as pn"
   ]
  },
  {
   "cell_type": "markdown",
   "metadata": {},
   "source": [
    "-[back to top](#Collocation-and-Interpolation)"
   ]
  }
 ],
 "metadata": {
  "kernelspec": {
   "display_name": "Python 3",
   "language": "python",
   "name": "python3"
  },
  "language_info": {
   "codemirror_mode": {
    "name": "ipython",
    "version": 3
   },
   "file_extension": ".py",
   "mimetype": "text/x-python",
   "name": "python",
   "nbconvert_exporter": "python",
   "pygments_lexer": "ipython3",
   "version": "3.7.3"
  }
 },
 "nbformat": 4,
 "nbformat_minor": 4
}
