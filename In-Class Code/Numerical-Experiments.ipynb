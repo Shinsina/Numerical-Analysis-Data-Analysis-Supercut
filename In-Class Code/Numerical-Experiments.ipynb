{
 "cells": [
  {
   "cell_type": "code",
   "execution_count": 1,
   "metadata": {},
   "outputs": [],
   "source": [
    "import numpy as np\n",
    "import matplotlib.pyplot as plt\n",
    "from scipy.fftpack import ifft\n",
    "from numpy.polynomial.legendre import leggauss\n",
    "from scipy import special\n",
    "from scipy.integrate import quadrature\n",
    "from scipy import interpolate\n",
    "import scipy.integrate as integrate"
   ]
  },
  {
   "cell_type": "markdown",
   "metadata": {},
   "source": [
    "### Problem 1 Fit the signal that loads below using the DFT. Display the resulting fit by overlaying it on the data."
   ]
  },
  {
   "cell_type": "code",
   "execution_count": 2,
   "metadata": {},
   "outputs": [
    {
     "data": {
      "image/png": "[encoded data removed]",
      "text/plain": [
       "<Figure size 432x288 with 1 Axes>"
      ]
     },
     "metadata": {
      "needs_background": "light"
     },
     "output_type": "display_data"
    }
   ],
   "source": [
    "# Your code for Problem 1 in this cell. Add cells as required.\n",
    "# Make sure that the signal.npy file is in the same directory as this Jupyter notebook.\n",
    "# If you still have trouble loading it, copy and paste the array, from the text file provided,\n",
    "# into a cell above.\n",
    "\n",
    "# *** Provide collocation code here ***\n",
    "signal = np.load('signal.npy')\n",
    "N = len(signal)\n",
    "Nk = N\n",
    "#print(Nk)\n",
    "x = np.linspace(-np.pi,np.pi,N+1)\n",
    "x = x[:-1]\n",
    "k = np.arange(-Nk/2+1,Nk/2+1) # Recall arange leaves out last value\n",
    "# Outer Product for Fitting\n",
    "kx = np.outer(k,x)\n",
    "C = np.cos(np.outer(k,x))\n",
    "S = np.sin(np.outer(k,x))\n",
    "a = C.dot(signal)/(N-1)\n",
    "b = S.dot(signal)/(N-1)\n",
    "Hc = a.dot(C)\n",
    "Hs = b.dot(S)\n",
    "H = Hc + Hs\n",
    "\n",
    "# Interpolate\n",
    "#xi = np.linspace(-np.pi,np.pi)\n",
    "#Ni = len(xi)\n",
    "#kxi = np.outer(k,xi) # Outer Product for Interpolating\n",
    "#Ci = np.cos(kxi)\n",
    "#Si = np.sin(kxi)\n",
    "#Hci = a.dot(Ci) # Cosine (even part) Interpolant\n",
    "#Hsi = b.dot(Si) # Sine (odd part) Interpolant\n",
    "# Construct the Fourier series expansion\n",
    "#Hi = Hci + Hsi # Trigonometric (DFT) Interpolation\n",
    "plt.plot(x,signal,'r-',x,H,'g-');"
   ]
  },
  {
   "cell_type": "code",
   "execution_count": null,
   "metadata": {},
   "outputs": [],
   "source": []
  },
  {
   "cell_type": "markdown",
   "metadata": {},
   "source": [
    "### Problem 2 Find $x$ such that $\\sin(x^2) = \\frac1{\\pi}\\int_0^\\pi\\sin(t^2)\\,dt$."
   ]
  },
  {
   "cell_type": "code",
   "execution_count": 15,
   "metadata": {},
   "outputs": [
    {
     "name": "stdout",
     "output_type": "stream",
     "text": [
      "0.24594267872608572\n"
     ]
    }
   ],
   "source": [
    "# Your code for Problem 5 in this cell. Add cells as required.\n",
    "result = integrate.quad(lambda x: 1/np.pi*np.sin(x**2), 0, np.pi)\n",
    "print(result[0])\n",
    "#THIS IS USING SECANT METHOD "
   ]
  },
  {
   "cell_type": "code",
   "execution_count": 4,
   "metadata": {},
   "outputs": [],
   "source": [
    "def g(x):\n",
    "    #return ((1/np.pi)*np.sin(x**2))-np.sin(x**2)\n",
    "    return np.sin(x**2)-result[0]"
   ]
  },
  {
   "cell_type": "code",
   "execution_count": 5,
   "metadata": {},
   "outputs": [],
   "source": [
    "def gp(x):\n",
    "    return (2*x)*np.cos(x**2)"
   ]
  },
  {
   "cell_type": "code",
   "execution_count": 6,
   "metadata": {},
   "outputs": [
    {
     "name": "stdout",
     "output_type": "stream",
     "text": [
      "3.029238491239321\n",
      "1.4194916250773387e-12\n",
      "4\n"
     ]
    }
   ],
   "source": [
    "x = 3\n",
    "MAXITS = 20\n",
    "tol = 1e-8\n",
    "k = 0\n",
    "err = 1\n",
    "\n",
    "while err > tol and k < MAXITS:\n",
    "    eta = g(x)/gp(x)\n",
    "    #xold = x\n",
    "    x = x - eta\n",
    "    err = np.fabs(eta)\n",
    "    k +=1\n",
    "    \n",
    "print(x)\n",
    "print(err)\n",
    "print(k)"
   ]
  },
  {
   "cell_type": "markdown",
   "metadata": {},
   "source": [
    "### Problem 3 Use Chebyshev nodes to interpolate the function $f(x) = \\frac{1}{1+25x^2}$ on the interval $[-1,1]$."
   ]
  },
  {
   "cell_type": "code",
   "execution_count": 7,
   "metadata": {},
   "outputs": [],
   "source": [
    "# Your code for Problem 6 in this cell. Add cells as required."
   ]
  },
  {
   "cell_type": "code",
   "execution_count": 8,
   "metadata": {},
   "outputs": [],
   "source": [
    "def f(x):\n",
    "    return 1/(1+25*x**2)"
   ]
  },
  {
   "cell_type": "code",
   "execution_count": 9,
   "metadata": {},
   "outputs": [],
   "source": [
    "def transint(x,w,a,b):\n",
    "    x = (b-a)*(x + (a+b)/(b-a))/2\n",
    "    w = (b-a)*w/2\n",
    "    return x,w"
   ]
  },
  {
   "cell_type": "code",
   "execution_count": 10,
   "metadata": {},
   "outputs": [],
   "source": [
    "def clencurt(n1):\n",
    "    n = n1 - 1\n",
    "    C = np.zeros((n1,2))\n",
    "    k = 2*(1+np.arange(np.floor(n/2)))\n",
    "    # Compute weights --> integral of Tn(x)\n",
    "    C[::2,0] = 2/np.hstack((1, 1-k*k))\n",
    "    C[1,1] = -n\n",
    "    V = np.vstack((C,np.flipud(C[1:n,:])))\n",
    "    # Real part of inverse FFT ~ Cosine transform\n",
    "    F = np.real(ifft(V, n=None, axis=0))\n",
    "    x = F[:n1,1]\n",
    "    w = np.hstack((F[0,0],2*F[1:n,0],F[n,0]))\n",
    "    return x, w"
   ]
  },
  {
   "cell_type": "code",
   "execution_count": 11,
   "metadata": {},
   "outputs": [],
   "source": [
    "def myclencurt(N, func, a = -1, b = 1):\n",
    "    x, w = clencurt(N)\n",
    "    x, w = transint(x,w,a,b)\n",
    "    return w.dot(func(x))"
   ]
  },
  {
   "cell_type": "code",
   "execution_count": 12,
   "metadata": {},
   "outputs": [
    {
     "data": {
      "text/plain": [
       "0.5493603025358971"
      ]
     },
     "execution_count": 12,
     "metadata": {},
     "output_type": "execute_result"
    }
   ],
   "source": [
    "myclencurt(N,f)"
   ]
  },
  {
   "cell_type": "code",
   "execution_count": 13,
   "metadata": {},
   "outputs": [
    {
     "data": {
      "image/png": "[encoded data removed]",
      "text/plain": [
       "<Figure size 432x288 with 1 Axes>"
      ]
     },
     "metadata": {
      "needs_background": "light"
     },
     "output_type": "display_data"
    }
   ],
   "source": [
    "nodes = 19\n",
    "x,w = clencurt(nodes)\n",
    "phi= np.vander(x,N=nodes,increasing=True)\n",
    "c = np.linalg.solve(phi,f(x))\n",
    "y=np.dot(phi,c)\n",
    "plt.plot(x,f(x),'ro',x,y,'g.')\n",
    "plt.xlabel('x')\n",
    "plt.ylabel('y')\n",
    "plt.title('Collocation');"
   ]
  },
  {
   "cell_type": "code",
   "execution_count": 14,
   "metadata": {},
   "outputs": [
    {
     "data": {
      "image/png": "[encoded data removed]",
      "text/plain": [
       "<Figure size 432x288 with 1 Axes>"
      ]
     },
     "metadata": {
      "needs_background": "light"
     },
     "output_type": "display_data"
    }
   ],
   "source": [
    "Ni = 23\n",
    "xi = np.linspace(-1,1,Ni)\n",
    "phitwo = np.vander(xi,N=nodes,increasing=True)\n",
    "yi=np.dot(phitwo,c)\n",
    "plt.plot(x,f(x),'ro',xi,yi,'g.')\n",
    "plt.xlabel('x')\n",
    "plt.ylabel('y')\n",
    "plt.title('Interpolation');"
   ]
  },
  {
   "cell_type": "code",
   "execution_count": null,
   "metadata": {},
   "outputs": [],
   "source": []
  },
  {
   "cell_type": "code",
   "execution_count": null,
   "metadata": {},
   "outputs": [],
   "source": []
  },
  {
   "cell_type": "code",
   "execution_count": null,
   "metadata": {},
   "outputs": [],
   "source": []
  },
  {
   "cell_type": "code",
   "execution_count": null,
   "metadata": {},
   "outputs": [],
   "source": []
  }
 ],
 "metadata": {
  "kernelspec": {
   "display_name": "Python 3",
   "language": "python",
   "name": "python3"
  },
  "language_info": {
   "codemirror_mode": {
    "name": "ipython",
    "version": 3
   },
   "file_extension": ".py",
   "mimetype": "text/x-python",
   "name": "python",
   "nbconvert_exporter": "python",
   "pygments_lexer": "ipython3",
   "version": "3.7.3"
  }
 },
 "nbformat": 4,
 "nbformat_minor": 4
}
