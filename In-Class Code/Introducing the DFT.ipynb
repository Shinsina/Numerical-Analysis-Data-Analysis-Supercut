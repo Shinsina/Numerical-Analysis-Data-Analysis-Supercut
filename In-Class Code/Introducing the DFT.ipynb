{
 "cells": [
  {
   "cell_type": "markdown",
   "metadata": {},
   "source": [
    "# Introducing the Discrete Fourier Transform (DFT)"
   ]
  },
  {
   "cell_type": "code",
   "execution_count": 1,
   "metadata": {},
   "outputs": [],
   "source": [
    "import numpy as np\n",
    "import matplotlib.pyplot as plt"
   ]
  },
  {
   "cell_type": "markdown",
   "metadata": {},
   "source": [
    "### The Collocation Problem with Trigonometric Basis Functions"
   ]
  },
  {
   "cell_type": "markdown",
   "metadata": {},
   "source": [
    "###### The form of the trigonometric polynomial that we will study in this course is defined\n",
    "$$\\sum_{k=-\\frac{N_k}{2}+1}^{\\frac{N_k}2} a_k\\cos(kx) + b_k\\sin(kx) = f(x)$$\n",
    "\n",
    "$N_k$ is the number of frequencies and $j$ can range up to the number of grid-points for $x$."
   ]
  },
  {
   "cell_type": "markdown",
   "metadata": {},
   "source": [
    "###### We could determine the coefficients $a_k$ and $b_k$ by collocation (the direct method) and invert a matrix.\n",
    "\n",
    "$$\\sum_{k=-\\frac{N_k}{2}+1}^{\\frac{N_k}2} a_k\\cos(kx_j) + b_k\\sin(kx_j) = f_j$$"
   ]
  },
  {
   "cell_type": "markdown",
   "metadata": {},
   "source": [
    "###### <font color=red>But we do not need to set up a system of equations. We can use orthogonality of $\\sin(kx)$ and $\\cos(kx)$ over $x\\in[-\\pi,\\pi]$ to compute the coefficients using quadrature. In fact, we will use the trapezoidal rule!"
   ]
  },
  {
   "cell_type": "markdown",
   "metadata": {},
   "source": [
    "###### You proved that\n",
    "\n",
    "$$\\frac1{\\pi}\\int_{-\\pi}^\\pi\\cos\\left(mx\\right)\\cos\\left(nx\\right)\\,dx = \\delta_{mn}$$\n",
    "\n",
    "$$\\frac1{\\pi}\\int_{-\\pi}^\\pi\\sin\\left(mx\\right)\\sin\\left(nx\\right)\\,dx = \\delta_{mn}$$\n",
    "\n",
    "$$\\frac1{\\pi}\\int_{-\\pi}^\\pi\\cos\\left(mx\\right)\\sin\\left(nx\\right)\\,dx = 0$$\n",
    "for $m,n\\in\\mathbb{Z}$."
   ]
  },
  {
   "cell_type": "markdown",
   "metadata": {},
   "source": [
    "###### So we can determine $a_n$ by using orthogonality as follows:\n",
    "\n",
    "$$\\sum_{k=-\\frac{N_k}{2}+1}^{\\frac{N_k}2} a_k\\cos(kx) + b_k\\sin(kx) = f(x)$$\n",
    "\n",
    "$$\\sum_{k=-\\frac{N_k}{2}+1}^{\\frac{N_k}2} a_k\\left(\\cos(kx),\\cos(nx)\\right) + b_k\\left(\\sin(kx),\\cos(nx)\\right) = \\left(f(x),\\cos(nx)\\right)$$\n",
    "\n",
    "$$\\sum_{k=-\\frac{N_k}{2}+1}^{\\frac{N_k}2} a_k\\delta_{kn} + b_k0 = \\left(f(x),\\cos(nx)\\right)$$\n",
    "\n",
    "$$a_n = \\left(f(x),\\cos(nx)\\right)$$\n",
    "\n",
    "Recall that if $f$ is an odd function, then $$a_n = \\left(f(x),\\cos(nx)\\right)=0$$ since cosine is an even function."
   ]
  },
  {
   "cell_type": "markdown",
   "metadata": {},
   "source": [
    "###### We can determine $b_n$ by using orthogonality as follows:\n",
    "\n",
    "$$\\sum_{k=-\\frac{N_k}{2}+1}^{\\frac{N_k}2} a_k\\cos(kx) + b_k\\sin(kx) = f(x)$$\n",
    "\n",
    "$$\\sum_{k=-\\frac{N_k}{2}+1}^{\\frac{N_k}2} a_k\\left(\\cos(kx),\\sin(nx)\\right) + b_k\\left(\\sin(kx),\\sin(nx)\\right) = \\left(f(x),\\sin(nx)\\right)$$\n",
    "\n",
    "$$\\sum_{k=-\\frac{N_k}{2}+1}^{\\frac{N_k}2} a_k0 + b_k\\delta{kn} = \\left(f(x),\\sin(nx)\\right)$$\n",
    "\n",
    "$$b_n = \\left(f(x),\\sin(nx)\\right)$$\n",
    "\n",
    "Recall that if $f$ is an even function, then $$b_n = \\left(f(x),\\sin(nx)\\right)=0$$ since sine is an odd function."
   ]
  },
  {
   "cell_type": "markdown",
   "metadata": {},
   "source": [
    "### Fourier Coefficients and the Fourier Cosine Transform and Fourier Sine Transform"
   ]
  },
  {
   "cell_type": "markdown",
   "metadata": {},
   "source": [
    "###### We will define the Fourier Cosine Coefficient as $$a_k = (f,\\cos(kx)) = \\frac1{\\pi}\\int_{-\\pi}^\\pi f(x)\\cos(kx)\\,dx$$"
   ]
  },
  {
   "cell_type": "markdown",
   "metadata": {},
   "source": [
    "###### We will define the Fourier Sine Coefficient as $$b_k = (f,\\sin(kx)) = \\frac1{\\pi}\\int_{-\\pi}^\\pi f(x)\\sin(kx)\\,dx$$"
   ]
  },
  {
   "cell_type": "markdown",
   "metadata": {},
   "source": [
    "###### But our data will be discrete, so we need to approximate these coefficients using a quadrature rule. We will use the trapezoidal rule and this discretization results in the so-called Discrete Fourier Transform."
   ]
  },
  {
   "cell_type": "markdown",
   "metadata": {},
   "source": [
    "### Discrete Fourier Transform (DFT)"
   ]
  },
  {
   "cell_type": "markdown",
   "metadata": {},
   "source": [
    "###### In order to compute the DFT over a frequency grid you will need to write an algorithm that\n",
    "* executes the trapezoidal rule\n",
    "* over a grid for $x$\n",
    "* at each frequency $k$\n",
    "\n",
    "<font color=red>That means that you will implement the trapezoidal rule using a matrix (vectorization)."
   ]
  },
  {
   "cell_type": "markdown",
   "metadata": {},
   "source": [
    "###### To get a feel for this kind of computation, we can compute the following integrals using the trapezoidal rule with $n = 8$ grid points."
   ]
  },
  {
   "cell_type": "markdown",
   "metadata": {},
   "source": [
    "###### $f(x)=1x$ $$a_0 = \\int_0^1\\,1\\,x\\,dx \\approx \\sum_{j=0}^71\\,x_j\\,\\,w_j$$"
   ]
  },
  {
   "cell_type": "markdown",
   "metadata": {},
   "source": [
    "###### $$\\begin{pmatrix}\n",
    "1x_0 & 1x_1 & 1x_2 & \\ldots & 1x_7\n",
    "\\end{pmatrix}\\begin{pmatrix}\n",
    "w_0 \\\\\n",
    "w_1 \\\\\n",
    "w_2 \\\\\n",
    "\\vdots \\\\\n",
    "w_7 \\\\\n",
    "\\end{pmatrix}\n",
    "=\n",
    "a_0$$\n",
    "where $w_0 = \\frac12h$, $w_1 = 1h$, $w_2 = 1h$,$\\ldots$, $w_7=\\frac12h$ where $h=\\frac17$ and the computed coefficient is $a_0 = \\frac12$"
   ]
  },
  {
   "cell_type": "code",
   "execution_count": 2,
   "metadata": {},
   "outputs": [
    {
     "name": "stdout",
     "output_type": "stream",
     "text": [
      "a0 = 0.49999999999999994\n"
     ]
    }
   ],
   "source": [
    "N = 8\n",
    "k = 1\n",
    "x = np.linspace(0,1,N)\n",
    "h = (x[-1]-x[0])/(N-1)\n",
    "w = np.ones(N)\n",
    "w[0], w[-1] = 0.5, 0.5\n",
    "w = h*w\n",
    "f = k*x\n",
    "print('a0 = {}'.format(f.dot(w)))"
   ]
  },
  {
   "cell_type": "markdown",
   "metadata": {},
   "source": [
    "###### $f(x)=2x$ $$a_1=\\int_0^1\\,2\\,x\\,dx \\approx \\sum_{j=0}^72\\,x_j\\,w_j$$"
   ]
  },
  {
   "cell_type": "markdown",
   "metadata": {},
   "source": [
    "###### $$\\begin{pmatrix}\n",
    "2x_0 & 2x_1 & 2x_2 & \\ldots & 2x_7\n",
    "\\end{pmatrix}\\begin{pmatrix}\n",
    "w_0 \\\\\n",
    "w_1 \\\\\n",
    "w_2 \\\\\n",
    "\\vdots \\\\\n",
    "w_7 \\\\\n",
    "\\end{pmatrix}\n",
    "=\n",
    "a_1$$\n",
    "where $w_0 = \\frac12h$, $w_1 = 1h$, $w_2 = 1h$,$\\ldots$, $w_7=\\frac12h$ where $h=\\frac17$ and the computed coefficient is $a_1 = 1$"
   ]
  },
  {
   "cell_type": "code",
   "execution_count": 3,
   "metadata": {},
   "outputs": [
    {
     "name": "stdout",
     "output_type": "stream",
     "text": [
      "a1 = 0.9999999999999999\n"
     ]
    }
   ],
   "source": [
    "N = 8\n",
    "k = 2\n",
    "x = np.linspace(0,1,N)\n",
    "h = (x[-1]-x[0])/(N-1)\n",
    "w = np.ones(N)\n",
    "w[0], w[-1] = 0.5, 0.5\n",
    "w = h*w\n",
    "f = k*x\n",
    "print('a1 = {}'.format(f.dot(w)))"
   ]
  },
  {
   "cell_type": "markdown",
   "metadata": {},
   "source": [
    "###### $f(x)=3x$ $$a_2=\\int_0^1\\,3\\,x\\,dx \\approx \\sum_{j=0}^73\\,x_j\\,w_j$$"
   ]
  },
  {
   "cell_type": "markdown",
   "metadata": {},
   "source": [
    "###### $$\\begin{pmatrix}\n",
    "3x_0 & 3x_1 & 3x_2 & \\ldots & 3x_7\n",
    "\\end{pmatrix}\\begin{pmatrix}\n",
    "w_0 \\\\\n",
    "w_1 \\\\\n",
    "w_2 \\\\\n",
    "\\vdots \\\\\n",
    "w_7 \\\\\n",
    "\\end{pmatrix}\n",
    "=\n",
    "a_2$$\n",
    "where $w_0 = \\frac12h$, $w_1 = 1h$, $w_2 = 1h$,$\\ldots$, $w_7=\\frac12h$ where $h=\\frac17$ and the computed coefficient is $a_2 = \\frac32$"
   ]
  },
  {
   "cell_type": "code",
   "execution_count": 4,
   "metadata": {},
   "outputs": [
    {
     "name": "stdout",
     "output_type": "stream",
     "text": [
      "a2 = 1.4999999999999998\n"
     ]
    }
   ],
   "source": [
    "N = 8\n",
    "k = 3\n",
    "x = np.linspace(0,1,N)\n",
    "h = (x[-1]-x[0])/(N-1)\n",
    "w = np.ones(N)\n",
    "w[0], w[-1] = 0.5, 0.5\n",
    "w = h*w\n",
    "f = k*x\n",
    "print('a2 = {}'.format(f.dot(w)))"
   ]
  },
  {
   "cell_type": "markdown",
   "metadata": {},
   "source": [
    "###### Now combine these three separate computations into one matrix-vector multiply."
   ]
  },
  {
   "cell_type": "markdown",
   "metadata": {},
   "source": [
    "###### $$\\begin{pmatrix}\n",
    "1x_0 & 1x_1 & 1x_2 & \\ldots & 1x_7\\\\\n",
    "2x_0 & 2x_1 & 2x_2 & \\ldots & 2x_7\\\\\n",
    "3x_0 & 3x_1 & 3x_2 & \\ldots & 3x_7\n",
    "\\end{pmatrix}\\begin{pmatrix}\n",
    "w_0 \\\\ w_1 \\\\ w_2 \\\\ \\ldots \\\\ w_7\n",
    "\\end{pmatrix}\n",
    "=\n",
    "\\begin{pmatrix}\n",
    "a_0 \\\\ a_1 \\\\ a_2\n",
    "\\end{pmatrix}$$\n",
    "where $w_0 = \\frac12h$, $w_1 = 1h$, $w_2 = 1h$,$\\ldots$, $w_7=\\frac12h$ where $h=\\frac17$ and the computed coefficients are $a_0 = \\frac12$, $a_1 = 1$, $a_2 = \\frac32$."
   ]
  },
  {
   "cell_type": "code",
   "execution_count": 5,
   "metadata": {},
   "outputs": [
    {
     "data": {
      "text/plain": [
       "array([[1., 1., 1., 1., 1., 1., 1., 1.],\n",
       "       [2., 2., 2., 2., 2., 2., 2., 2.],\n",
       "       [3., 3., 3., 3., 3., 3., 3., 3.]])"
      ]
     },
     "execution_count": 5,
     "metadata": {},
     "output_type": "execute_result"
    }
   ],
   "source": [
    "# Outer product to create the matrix\n",
    "N = 8\n",
    "k = np.arange(1,4)\n",
    "np.outer(k,np.ones(N))"
   ]
  },
  {
   "cell_type": "code",
   "execution_count": 6,
   "metadata": {},
   "outputs": [
    {
     "name": "stdout",
     "output_type": "stream",
     "text": [
      "a = [0.5 1.  1.5]\n"
     ]
    }
   ],
   "source": [
    "N = 8\n",
    "x = np.linspace(0,1,N)\n",
    "h = (x[-1]-x[0])/(N-1)\n",
    "k = np.arange(1,4)\n",
    "w = np.ones(N)\n",
    "w[0], w[-1] = 1/2, 1/2\n",
    "w = w*h\n",
    "f = np.outer(k,x)\n",
    "a = f.dot(w)\n",
    "#print(x*1)\n",
    "#print(x*k)\n",
    "print('a = {}'.format(a))"
   ]
  },
  {
   "cell_type": "markdown",
   "metadata": {},
   "source": [
    "### Discrete Cosine Transform (DCT)"
   ]
  },
  {
   "cell_type": "markdown",
   "metadata": {},
   "source": [
    "###### What is the algorithm for the Fourier cosine coefficient $\\displaystyle a_k = \\frac1{\\pi}\\int_{-\\pi}^\\pi f(x)\\cos(kx)\\,dx$?"
   ]
  },
  {
   "cell_type": "markdown",
   "metadata": {},
   "source": [
    "###### Notice that\n",
    "* $h =\\frac1{N-1}$ will be factored into the trapezoidal rule\n",
    "* The frequency range will be centered at $k=0$ so $k$ will range over $\\left[-\\frac{N_k}2+1,\\ldots,\\frac{N_k}2\\right]$ \n",
    "* The weights for the trapezoidal rule are $\\vec{w} = [\\frac12, 1, 1, \\ldots, 1, \\frac12]$ but the assumption of periodicity means that we assume that the first and final endpoints yield the same result, so we are adding them together in the sum yielding $\\vec{w} = [1, 1, 1, \\ldots, 1]$\n",
    "* Computationally we can ignore the weight vector and simply compute the dot product of $f(x)$ and the cosine kernel."
   ]
  },
  {
   "cell_type": "markdown",
   "metadata": {},
   "source": [
    "###### $$a_k = \\frac1{N-1}\\sum_{k=-\\frac{N_k}{2}+1}^{\\frac{N_k}2}f_j\\cos(kx_j)=\\frac{\\cos\\left(\\vec{k}\\otimes \\vec{x}\\right)\\,\\vec{f}}{N-1}$$ where $j=1,2,\\ldots,N-2$ since the function values at the nodes where $j=0$ and $j=N-1=n$ are added together."
   ]
  },
  {
   "cell_type": "markdown",
   "metadata": {},
   "source": [
    "###### Let $N_k = 8$ (frequency grid) and $N = 20$ (x grid) to start."
   ]
  },
  {
   "cell_type": "code",
   "execution_count": 7,
   "metadata": {},
   "outputs": [],
   "source": [
    "Nk = 8\n",
    "N = 20\n",
    "L = np.pi\n",
    "# Spatial grid\n",
    "x = np.linspace(-L,L,N)\n",
    "x = x[:-1] # Evaluations at first and last endpoint are added together due to periodicity\n",
    "# k = -Nk/2+1 ... Nk/2\n",
    "# Frequency grid\n",
    "k = np.arange(-Nk/2+1,Nk/2+1) # Recall arange leaves out last value\n",
    "f = 1/np.cosh(x)\n",
    "C = np.cos(np.outer(k,x))\n",
    "a = C.dot(f)/(N-1)\n",
    "#print(a)"
   ]
  },
  {
   "cell_type": "code",
   "execution_count": 8,
   "metadata": {},
   "outputs": [
    {
     "data": {
      "text/plain": [
       "array([-3., -2., -1.,  0.,  1.,  2.,  3.,  4.])"
      ]
     },
     "execution_count": 8,
     "metadata": {},
     "output_type": "execute_result"
    }
   ],
   "source": [
    "k"
   ]
  },
  {
   "cell_type": "markdown",
   "metadata": {},
   "source": [
    "###### Fit the even function $f(x) = \\frac1{\\cosh(x)}$"
   ]
  },
  {
   "cell_type": "markdown",
   "metadata": {},
   "source": [
    "######  $b_k=0~\\forall k$ so the trigonometric interpolant (Fourier series) is (Cosine series) $$f_j= \\sum_k a_k\\cos(kx_j) \\leftrightarrow \\cos\\left(\\vec{x}\\otimes\\vec{k}\\right)\\vec{a}$$ where $k = -\\frac{N_k}2+1,\\ldots,\\frac{N_k}2$ and the nodes are $x_j$."
   ]
  },
  {
   "cell_type": "code",
   "execution_count": 9,
   "metadata": {},
   "outputs": [
    {
     "data": {
      "image/png": "[encoded data removed]",
      "text/plain": [
       "<Figure size 432x288 with 1 Axes>"
      ]
     },
     "metadata": {
      "needs_background": "light"
     },
     "output_type": "display_data"
    }
   ],
   "source": [
    "Fc = a.dot(C)\n",
    "plt.plot(x,f,'b',x,Fc,'r.')\n",
    "plt.legend(['$f(x)$','DCT Fit']);"
   ]
  },
  {
   "cell_type": "markdown",
   "metadata": {},
   "source": [
    "### Discrete Sine Transform (DST)"
   ]
  },
  {
   "cell_type": "markdown",
   "metadata": {},
   "source": [
    "###### What is the algorithm for the Fourier sine coefficient $\\displaystyle b_k = \\frac1{\\pi}\\int_{-\\pi}^{\\pi} f(x)\\sin(kx)\\,dx$?"
   ]
  },
  {
   "cell_type": "markdown",
   "metadata": {},
   "source": [
    "###### $$b_k = \\frac1{N-1}\\sum_{k=-\\frac{N_k}{2}+1}^{\\frac{N_k}2}f_j\\sin(kx_j)=\\frac{\\sin\\left(\\vec{k}\\otimes \\vec{x}\\right)\\,\\vec{f}}{N-1}$$ where $j=1,2,\\ldots,N-2$ since the function values at the nodes where $j=0$ and $j=N-1=n$ are added together."
   ]
  },
  {
   "cell_type": "code",
   "execution_count": 10,
   "metadata": {},
   "outputs": [],
   "source": [
    "Nk = 8\n",
    "N = 20\n",
    "L = np.pi\n",
    "# Spatial grid\n",
    "x = np.linspace(-L,L,N)\n",
    "x = x[:-1] # Evaluations at first and last endpoint are added together due to periodicity\n",
    "# k = -Nk/2+1 ... Nk/2\n",
    "# Frequency grid\n",
    "k = np.arange(-Nk/2+1,Nk/2+1) # Recall arange leaves out last value\n",
    "f = np.tanh(2*x)\n",
    "S = np.sin(np.outer(k,x))\n",
    "b = S.dot(f)/(N-1)\n",
    "#print(b)"
   ]
  },
  {
   "cell_type": "markdown",
   "metadata": {},
   "source": [
    "###### Fit the odd function $f(x) = \\tanh(2x)$"
   ]
  },
  {
   "cell_type": "markdown",
   "metadata": {},
   "source": [
    "######  $a_k=0~\\forall k$ so the trigonometric interpolant (Fourier series) is (Sine series) $$f_j = \\sum_k a_k\\sin(kx_j) \\leftrightarrow \\sin\\left(\\vec{x}\\otimes\\vec{k}\\right)\\vec{a}$$ where $k = -\\frac{N_k}2+1,\\ldots,\\frac{N_k}2$ and the nodes are $x_j$."
   ]
  },
  {
   "cell_type": "code",
   "execution_count": 11,
   "metadata": {},
   "outputs": [
    {
     "data": {
      "image/png": "[encoded data removed]",
      "text/plain": [
       "<Figure size 432x288 with 1 Axes>"
      ]
     },
     "metadata": {
      "needs_background": "light"
     },
     "output_type": "display_data"
    }
   ],
   "source": [
    "Fs = b.dot(S)\n",
    "plt.plot(x,f,'b',x,Fs,'r.-')\n",
    "plt.legend(['$f(x)$','DST']);"
   ]
  },
  {
   "cell_type": "markdown",
   "metadata": {},
   "source": [
    "-[back-to-top](#Introducing-the-Discrete-Fourier-Transform-(DFT))"
   ]
  }
 ],
 "metadata": {
  "kernelspec": {
   "display_name": "Python 3",
   "language": "python",
   "name": "python3"
  },
  "language_info": {
   "codemirror_mode": {
    "name": "ipython",
    "version": 3
   },
   "file_extension": ".py",
   "mimetype": "text/x-python",
   "name": "python",
   "nbconvert_exporter": "python",
   "pygments_lexer": "ipython3",
   "version": "3.7.3"
  }
 },
 "nbformat": 4,
 "nbformat_minor": 4
}
