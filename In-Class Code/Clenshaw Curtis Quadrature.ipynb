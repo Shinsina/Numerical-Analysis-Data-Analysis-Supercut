{
 "cells": [
  {
   "cell_type": "code",
   "execution_count": 3,
   "metadata": {},
   "outputs": [],
   "source": [
    "import numpy as np\n",
    "from scipy.fftpack import ifft\n",
    "from numpy.polynomial.legendre import leggauss\n",
    "import matplotlib.pyplot as plt\n",
    "eps = np.finfo(float).eps"
   ]
  },
  {
   "cell_type": "code",
   "execution_count": 4,
   "metadata": {},
   "outputs": [],
   "source": [
    "def clencurt(n1):\n",
    "    n = n1 - 1\n",
    "    C = np.zeros((n1,2))\n",
    "    k = 2*(1+np.arange(np.floor(n/2)))\n",
    "    # Compute weights --> integral of Tn(x)\n",
    "    C[::2,0] = 2/np.hstack((1, 1-k*k))\n",
    "    C[1,1] = -n\n",
    "    V = np.vstack((C,np.flipud(C[1:n,:])))\n",
    "    # Real part of inverse FFT ~ Cosine transform\n",
    "    F = np.real(ifft(V, n=None, axis=0))\n",
    "    x = F[:n1,1]\n",
    "    w = np.hstack((F[0,0],2*F[1:n,0],F[n,0]))\n",
    "    return x, w"
   ]
  },
  {
   "cell_type": "code",
   "execution_count": 6,
   "metadata": {},
   "outputs": [
    {
     "name": "stdout",
     "output_type": "stream",
     "text": [
      "[-1.         -0.95105652 -0.80901699 -0.58778525 -0.30901699  0.\n",
      "  0.30901699  0.58778525  0.80901699  0.95105652  1.        ]\n"
     ]
    }
   ],
   "source": [
    "x,w = clencurt(11)\n",
    "print(x)"
   ]
  },
  {
   "cell_type": "code",
   "execution_count": 10,
   "metadata": {},
   "outputs": [
    {
     "name": "stdout",
     "output_type": "stream",
     "text": [
      "[ 9.89821442e-01  9.89821442e-01  9.09631995e-01  7.55749574e-01\n",
      "  5.40640817e-01  2.81732557e-01  2.83276945e-16 -2.81732557e-01\n",
      " -5.40640817e-01 -7.55749574e-01 -9.09631995e-01]\n"
     ]
    }
   ],
   "source": [
    "N = 11\n",
    "k = np.arange(N)\n",
    "#print(k)\n",
    "xk = np.cos((2*k-1)*np.pi/(2*N))\n",
    "print(xk)"
   ]
  },
  {
   "cell_type": "code",
   "execution_count": 11,
   "metadata": {},
   "outputs": [],
   "source": [
    "def transint(x,w,a,b):\n",
    "    x = (b-a)*(x + (a+b)/(b-a))/2\n",
    "    w = (b-a)*w/2\n",
    "    return x,w"
   ]
  },
  {
   "cell_type": "code",
   "execution_count": 12,
   "metadata": {},
   "outputs": [
    {
     "name": "stdout",
     "output_type": "stream",
     "text": [
      "[-2.         -1.87764129 -1.52254249 -0.96946313 -0.27254249  0.5\n",
      "  1.27254249  1.96946313  2.52254249  2.87764129  3.        ]\n"
     ]
    }
   ],
   "source": [
    "xt,wt = transint(x,w,-2,3)\n",
    "print(xt)"
   ]
  },
  {
   "cell_type": "code",
   "execution_count": 19,
   "metadata": {},
   "outputs": [],
   "source": [
    "def f(x):\n",
    "    return x*np.log(x)"
   ]
  },
  {
   "cell_type": "code",
   "execution_count": 27,
   "metadata": {},
   "outputs": [],
   "source": [
    "def mygauss(N,f,a=-1,b=1):\n",
    "    x, w = np.polynomial.legendre.leggauss(N)\n",
    "    xt,wt = transint(x,w,a,b)\n",
    "    return wt.dot(f(xt))"
   ]
  },
  {
   "cell_type": "code",
   "execution_count": 31,
   "metadata": {},
   "outputs": [],
   "source": [
    "def myclencurt(N,f,a=-1,b=1):\n",
    "    x,w = clencurt(N)\n",
    "    xt,wt = transint(x,w,a,b)\n",
    "    return wt.dot(f(xt))"
   ]
  },
  {
   "cell_type": "code",
   "execution_count": 34,
   "metadata": {},
   "outputs": [
    {
     "name": "stdout",
     "output_type": "stream",
     "text": [
      "0.6362943606071265\n",
      "0.636293660376966\n"
     ]
    }
   ],
   "source": [
    "a = 1\n",
    "b = 2\n",
    "N = 5\n",
    "print(mygauss(N,f,a,b))\n",
    "print(myclencurt(N,f,a,b))"
   ]
  },
  {
   "cell_type": "code",
   "execution_count": 44,
   "metadata": {},
   "outputs": [
    {
     "data": {
      "image/png": "[encoded data removed]",
      "text/plain": [
       "<Figure size 432x288 with 1 Axes>"
      ]
     },
     "metadata": {
      "needs_background": "light"
     },
     "output_type": "display_data"
    }
   ],
   "source": [
    "p = lambda x: x**26\n",
    "test = 2/27\n",
    "errg = []\n",
    "errc = []\n",
    "Nvec = np.arange(3,30)\n",
    "for N in Nvec:\n",
    "    G = mygauss(N,p)\n",
    "    C = myclencurt(N,p)\n",
    "    errg.append(np.fabs(G-test))\n",
    "    errc.append(np.fabs(C-test))\n",
    "plt.semilogy(Nvec,errg,'ro-',Nvec,errc,'bo-')\n",
    "plt.xlabel('Nodes')\n",
    "plt.ylabel('log(err)')\n",
    "plt.xticks(Nvec);"
   ]
  },
  {
   "cell_type": "code",
   "execution_count": null,
   "metadata": {},
   "outputs": [],
   "source": []
  }
 ],
 "metadata": {
  "kernelspec": {
   "display_name": "Python 3",
   "language": "python",
   "name": "python3"
  },
  "language_info": {
   "codemirror_mode": {
    "name": "ipython",
    "version": 3
   },
   "file_extension": ".py",
   "mimetype": "text/x-python",
   "name": "python",
   "nbconvert_exporter": "python",
   "pygments_lexer": "ipython3",
   "version": "3.7.3"
  }
 },
 "nbformat": 4,
 "nbformat_minor": 2
}
